{
  "nbformat": 4,
  "nbformat_minor": 0,
  "metadata": {
    "colab": {
      "provenance": []
    },
    "kernelspec": {
      "name": "python3",
      "display_name": "Python 3"
    },
    "language_info": {
      "name": "python"
    }
  },
  "cells": [
    {
      "cell_type": "code",
      "source": [
        "# Mounting the drive\n",
        "\n",
        "from google.colab import drive\n",
        "\n",
        "drive.mount('/content/drive')"
      ],
      "metadata": {
        "colab": {
          "base_uri": "https://localhost:8080/"
        },
        "id": "CxlFbj_ZYjMh",
        "outputId": "19421988-37ee-4ec0-b879-54d6a6b4fd94",
        "collapsed": true
      },
      "execution_count": null,
      "outputs": [
        {
          "output_type": "stream",
          "name": "stdout",
          "text": [
            "Drive already mounted at /content/drive; to attempt to forcibly remount, call drive.mount(\"/content/drive\", force_remount=True).\n"
          ]
        }
      ]
    },
    {
      "cell_type": "markdown",
      "source": [
        "# **ML - Project : To predict customer default or not**\n",
        "\n",
        "* **In this project we'll be building models to classify the customers - default or not default**\n",
        "--- ---\n",
        "*  **Dependent variable - ['default']**\n",
        "*  **Independent Variable - ['age', 'ed', 'employ', 'income', 'debtinc', creddebt', 'othdebt']**\n",
        "\n",
        "# **Importing Libraries**"
      ],
      "metadata": {
        "id": "n-ljKDmjXds5"
      }
    },
    {
      "cell_type": "code",
      "execution_count": null,
      "metadata": {
        "id": "blCnayL-WPa_"
      },
      "outputs": [],
      "source": [
        "# For numerical and statistical calculations and functions\n",
        "\n",
        "import numpy as np\n",
        "import pandas as pd\n",
        "\n",
        "# For visulizations and charts\n",
        "\n",
        "import matplotlib.pyplot as plt\n",
        "import seaborn as sb\n",
        "import plotly.graph_objects as go\n",
        "import plotly.express as px\n",
        "from plotly.subplots import make_subplots\n",
        "\n",
        "# For Calculating performance\n",
        "\n",
        "from sklearn.metrics import accuracy_score, recall_score, precision_score, f1_score\n",
        "\n",
        "from sklearn.metrics import classification_report, confusion_matrix, ConfusionMatrixDisplay\n",
        "\n",
        "from sklearn.metrics import roc_curve, auc\n",
        "\n",
        "from sklearn.metrics import roc_auc_score\n",
        "\n",
        "# For fltering warnins\n",
        "\n",
        "import warnings\n",
        "warnings.filterwarnings('ignore')"
      ]
    },
    {
      "cell_type": "markdown",
      "source": [
        "# **Reading the csv file(Bankloan)**\n",
        "---\n",
        "* **Loading the data**"
      ],
      "metadata": {
        "id": "X6zPZqP4YqaJ"
      }
    },
    {
      "cell_type": "code",
      "source": [
        "# Loading the netflix data\n",
        "\n",
        "df = pd.read_csv('/content/drive/MyDrive/Colab Notebooks/DATASETS/bankloans.csv')\n",
        "\n",
        "df.head()\n",
        "\n",
        "# Creating a copy of the data\n",
        "\n",
        "df_copy = df.copy()\n",
        "\n",
        "# Preview of the data\n",
        "\n",
        "df.head()"
      ],
      "metadata": {
        "colab": {
          "base_uri": "https://localhost:8080/",
          "height": 206
        },
        "id": "XTKsHE2hYh2q",
        "outputId": "bd2ff984-13cc-4fd5-898e-62e5ca7c191a",
        "collapsed": true
      },
      "execution_count": null,
      "outputs": [
        {
          "output_type": "execute_result",
          "data": {
            "text/plain": [
              "   age  ed  employ  address  income  debtinc   creddebt   othdebt  default\n",
              "0   41   3      17       12     NaN      9.3  11.359392  5.008608      1.0\n",
              "1   27   1      10        6    31.0     17.3   1.362202  4.000798      0.0\n",
              "2   40   1      15       14    55.0      5.5   0.856075  2.168925      0.0\n",
              "3   41   1      15       14   120.0      2.9   2.658720  0.821280      0.0\n",
              "4   24   2       2        0    28.0     17.3   1.787436  3.056564      1.0"
            ],
            "text/html": [
              "\n",
              "  <div id=\"df-3235a37c-5832-45fc-8fa0-1fea62c1736c\">\n",
              "    <div class=\"colab-df-container\">\n",
              "      <div>\n",
              "<style scoped>\n",
              "    .dataframe tbody tr th:only-of-type {\n",
              "        vertical-align: middle;\n",
              "    }\n",
              "\n",
              "    .dataframe tbody tr th {\n",
              "        vertical-align: top;\n",
              "    }\n",
              "\n",
              "    .dataframe thead th {\n",
              "        text-align: right;\n",
              "    }\n",
              "</style>\n",
              "<table border=\"1\" class=\"dataframe\">\n",
              "  <thead>\n",
              "    <tr style=\"text-align: right;\">\n",
              "      <th></th>\n",
              "      <th>age</th>\n",
              "      <th>ed</th>\n",
              "      <th>employ</th>\n",
              "      <th>address</th>\n",
              "      <th>income</th>\n",
              "      <th>debtinc</th>\n",
              "      <th>creddebt</th>\n",
              "      <th>othdebt</th>\n",
              "      <th>default</th>\n",
              "    </tr>\n",
              "  </thead>\n",
              "  <tbody>\n",
              "    <tr>\n",
              "      <th>0</th>\n",
              "      <td>41</td>\n",
              "      <td>3</td>\n",
              "      <td>17</td>\n",
              "      <td>12</td>\n",
              "      <td>NaN</td>\n",
              "      <td>9.3</td>\n",
              "      <td>11.359392</td>\n",
              "      <td>5.008608</td>\n",
              "      <td>1.0</td>\n",
              "    </tr>\n",
              "    <tr>\n",
              "      <th>1</th>\n",
              "      <td>27</td>\n",
              "      <td>1</td>\n",
              "      <td>10</td>\n",
              "      <td>6</td>\n",
              "      <td>31.0</td>\n",
              "      <td>17.3</td>\n",
              "      <td>1.362202</td>\n",
              "      <td>4.000798</td>\n",
              "      <td>0.0</td>\n",
              "    </tr>\n",
              "    <tr>\n",
              "      <th>2</th>\n",
              "      <td>40</td>\n",
              "      <td>1</td>\n",
              "      <td>15</td>\n",
              "      <td>14</td>\n",
              "      <td>55.0</td>\n",
              "      <td>5.5</td>\n",
              "      <td>0.856075</td>\n",
              "      <td>2.168925</td>\n",
              "      <td>0.0</td>\n",
              "    </tr>\n",
              "    <tr>\n",
              "      <th>3</th>\n",
              "      <td>41</td>\n",
              "      <td>1</td>\n",
              "      <td>15</td>\n",
              "      <td>14</td>\n",
              "      <td>120.0</td>\n",
              "      <td>2.9</td>\n",
              "      <td>2.658720</td>\n",
              "      <td>0.821280</td>\n",
              "      <td>0.0</td>\n",
              "    </tr>\n",
              "    <tr>\n",
              "      <th>4</th>\n",
              "      <td>24</td>\n",
              "      <td>2</td>\n",
              "      <td>2</td>\n",
              "      <td>0</td>\n",
              "      <td>28.0</td>\n",
              "      <td>17.3</td>\n",
              "      <td>1.787436</td>\n",
              "      <td>3.056564</td>\n",
              "      <td>1.0</td>\n",
              "    </tr>\n",
              "  </tbody>\n",
              "</table>\n",
              "</div>\n",
              "      <button class=\"colab-df-convert\" onclick=\"convertToInteractive('df-3235a37c-5832-45fc-8fa0-1fea62c1736c')\"\n",
              "              title=\"Convert this dataframe to an interactive table.\"\n",
              "              style=\"display:none;\">\n",
              "        \n",
              "  <svg xmlns=\"http://www.w3.org/2000/svg\" height=\"24px\"viewBox=\"0 0 24 24\"\n",
              "       width=\"24px\">\n",
              "    <path d=\"M0 0h24v24H0V0z\" fill=\"none\"/>\n",
              "    <path d=\"M18.56 5.44l.94 2.06.94-2.06 2.06-.94-2.06-.94-.94-2.06-.94 2.06-2.06.94zm-11 1L8.5 8.5l.94-2.06 2.06-.94-2.06-.94L8.5 2.5l-.94 2.06-2.06.94zm10 10l.94 2.06.94-2.06 2.06-.94-2.06-.94-.94-2.06-.94 2.06-2.06.94z\"/><path d=\"M17.41 7.96l-1.37-1.37c-.4-.4-.92-.59-1.43-.59-.52 0-1.04.2-1.43.59L10.3 9.45l-7.72 7.72c-.78.78-.78 2.05 0 2.83L4 21.41c.39.39.9.59 1.41.59.51 0 1.02-.2 1.41-.59l7.78-7.78 2.81-2.81c.8-.78.8-2.07 0-2.86zM5.41 20L4 18.59l7.72-7.72 1.47 1.35L5.41 20z\"/>\n",
              "  </svg>\n",
              "      </button>\n",
              "      \n",
              "  <style>\n",
              "    .colab-df-container {\n",
              "      display:flex;\n",
              "      flex-wrap:wrap;\n",
              "      gap: 12px;\n",
              "    }\n",
              "\n",
              "    .colab-df-convert {\n",
              "      background-color: #E8F0FE;\n",
              "      border: none;\n",
              "      border-radius: 50%;\n",
              "      cursor: pointer;\n",
              "      display: none;\n",
              "      fill: #1967D2;\n",
              "      height: 32px;\n",
              "      padding: 0 0 0 0;\n",
              "      width: 32px;\n",
              "    }\n",
              "\n",
              "    .colab-df-convert:hover {\n",
              "      background-color: #E2EBFA;\n",
              "      box-shadow: 0px 1px 2px rgba(60, 64, 67, 0.3), 0px 1px 3px 1px rgba(60, 64, 67, 0.15);\n",
              "      fill: #174EA6;\n",
              "    }\n",
              "\n",
              "    [theme=dark] .colab-df-convert {\n",
              "      background-color: #3B4455;\n",
              "      fill: #D2E3FC;\n",
              "    }\n",
              "\n",
              "    [theme=dark] .colab-df-convert:hover {\n",
              "      background-color: #434B5C;\n",
              "      box-shadow: 0px 1px 3px 1px rgba(0, 0, 0, 0.15);\n",
              "      filter: drop-shadow(0px 1px 2px rgba(0, 0, 0, 0.3));\n",
              "      fill: #FFFFFF;\n",
              "    }\n",
              "  </style>\n",
              "\n",
              "      <script>\n",
              "        const buttonEl =\n",
              "          document.querySelector('#df-3235a37c-5832-45fc-8fa0-1fea62c1736c button.colab-df-convert');\n",
              "        buttonEl.style.display =\n",
              "          google.colab.kernel.accessAllowed ? 'block' : 'none';\n",
              "\n",
              "        async function convertToInteractive(key) {\n",
              "          const element = document.querySelector('#df-3235a37c-5832-45fc-8fa0-1fea62c1736c');\n",
              "          const dataTable =\n",
              "            await google.colab.kernel.invokeFunction('convertToInteractive',\n",
              "                                                     [key], {});\n",
              "          if (!dataTable) return;\n",
              "\n",
              "          const docLinkHtml = 'Like what you see? Visit the ' +\n",
              "            '<a target=\"_blank\" href=https://colab.research.google.com/notebooks/data_table.ipynb>data table notebook</a>'\n",
              "            + ' to learn more about interactive tables.';\n",
              "          element.innerHTML = '';\n",
              "          dataTable['output_type'] = 'display_data';\n",
              "          await google.colab.output.renderOutput(dataTable, element);\n",
              "          const docLink = document.createElement('div');\n",
              "          docLink.innerHTML = docLinkHtml;\n",
              "          element.appendChild(docLink);\n",
              "        }\n",
              "      </script>\n",
              "    </div>\n",
              "  </div>\n",
              "  "
            ]
          },
          "metadata": {},
          "execution_count": 45
        }
      ]
    },
    {
      "cell_type": "markdown",
      "source": [
        "# **Data Understanding**\n",
        "---"
      ],
      "metadata": {
        "id": "yRplNej9ahvq"
      }
    },
    {
      "cell_type": "code",
      "source": [
        "# Shape of the data file\n",
        "\n",
        "print(\" There are totally \\nRows : {} \\n columns : {}\".format(df.shape[0],df.shape[1]))"
      ],
      "metadata": {
        "colab": {
          "base_uri": "https://localhost:8080/"
        },
        "collapsed": true,
        "id": "1gWIKp1AaHhJ",
        "outputId": "7a1736fe-1f67-4f4f-8e8e-bb537b79ad23"
      },
      "execution_count": null,
      "outputs": [
        {
          "output_type": "stream",
          "name": "stdout",
          "text": [
            " There are totally \n",
            "Rows : 850 \n",
            " columns : 9\n"
          ]
        }
      ]
    },
    {
      "cell_type": "code",
      "source": [
        "# information about column names and their respective data types, missing values, and memory consumption \n",
        "\n",
        "df.info()"
      ],
      "metadata": {
        "colab": {
          "base_uri": "https://localhost:8080/"
        },
        "collapsed": true,
        "id": "QSHIZHRLaliN",
        "outputId": "808c093d-97ed-4bd5-9176-e555d1664113"
      },
      "execution_count": null,
      "outputs": [
        {
          "output_type": "stream",
          "name": "stdout",
          "text": [
            "<class 'pandas.core.frame.DataFrame'>\n",
            "RangeIndex: 850 entries, 0 to 849\n",
            "Data columns (total 9 columns):\n",
            " #   Column    Non-Null Count  Dtype  \n",
            "---  ------    --------------  -----  \n",
            " 0   age       850 non-null    int64  \n",
            " 1   ed        850 non-null    int64  \n",
            " 2   employ    850 non-null    int64  \n",
            " 3   address   850 non-null    int64  \n",
            " 4   income    846 non-null    float64\n",
            " 5   debtinc   850 non-null    float64\n",
            " 6   creddebt  850 non-null    float64\n",
            " 7   othdebt   850 non-null    float64\n",
            " 8   default   700 non-null    float64\n",
            "dtypes: float64(5), int64(4)\n",
            "memory usage: 59.9 KB\n"
          ]
        }
      ]
    },
    {
      "cell_type": "markdown",
      "source": [
        "# **Observations**\n",
        "\n",
        "* **We can see some missing values in our datafile.**\n",
        "\n",
        "* **All the columns are numeric (int and float).**\n",
        "\n",
        "* **Note - 150 records are missing from our target.**"
      ],
      "metadata": {
        "id": "udenra7wauUP"
      }
    },
    {
      "cell_type": "code",
      "source": [
        "# Statistical summary of the data\n",
        "\n",
        "df.describe().T"
      ],
      "metadata": {
        "colab": {
          "base_uri": "https://localhost:8080/",
          "height": 331
        },
        "collapsed": true,
        "id": "4SrJLZL3bjqR",
        "outputId": "3b41c6f6-f780-4dd2-9611-0ee95ca87444"
      },
      "execution_count": null,
      "outputs": [
        {
          "output_type": "execute_result",
          "data": {
            "text/plain": [
              "          count       mean        std        min        25%        50%  \\\n",
              "age       850.0  35.029412   8.041432  20.000000  29.000000  34.000000   \n",
              "ed        850.0   1.710588   0.927784   1.000000   1.000000   1.000000   \n",
              "employ    850.0   8.565882   6.777884   0.000000   3.000000   7.000000   \n",
              "address   850.0   8.371765   6.895016   0.000000   3.000000   7.000000   \n",
              "income    846.0  46.492908  38.369605  13.000000  24.000000  35.000000   \n",
              "debtinc   850.0  10.171647   6.719441   0.100000   5.100000   8.700000   \n",
              "creddebt  850.0   1.576805   2.125840   0.011696   0.382176   0.885091   \n",
              "othdebt   850.0   3.078789   3.398803   0.045584   1.045942   2.003243   \n",
              "default   700.0   0.261429   0.439727   0.000000   0.000000   0.000000   \n",
              "\n",
              "                75%        max  \n",
              "age       41.000000   56.00000  \n",
              "ed         2.000000    5.00000  \n",
              "employ    13.000000   33.00000  \n",
              "address   12.000000   34.00000  \n",
              "income    55.000000  446.00000  \n",
              "debtinc   13.800000   41.30000  \n",
              "creddebt   1.898440   20.56131  \n",
              "othdebt    3.903001   35.19750  \n",
              "default    1.000000    1.00000  "
            ],
            "text/html": [
              "\n",
              "  <div id=\"df-7ecfddbc-c21b-4921-8451-059e15c941ee\">\n",
              "    <div class=\"colab-df-container\">\n",
              "      <div>\n",
              "<style scoped>\n",
              "    .dataframe tbody tr th:only-of-type {\n",
              "        vertical-align: middle;\n",
              "    }\n",
              "\n",
              "    .dataframe tbody tr th {\n",
              "        vertical-align: top;\n",
              "    }\n",
              "\n",
              "    .dataframe thead th {\n",
              "        text-align: right;\n",
              "    }\n",
              "</style>\n",
              "<table border=\"1\" class=\"dataframe\">\n",
              "  <thead>\n",
              "    <tr style=\"text-align: right;\">\n",
              "      <th></th>\n",
              "      <th>count</th>\n",
              "      <th>mean</th>\n",
              "      <th>std</th>\n",
              "      <th>min</th>\n",
              "      <th>25%</th>\n",
              "      <th>50%</th>\n",
              "      <th>75%</th>\n",
              "      <th>max</th>\n",
              "    </tr>\n",
              "  </thead>\n",
              "  <tbody>\n",
              "    <tr>\n",
              "      <th>age</th>\n",
              "      <td>850.0</td>\n",
              "      <td>35.029412</td>\n",
              "      <td>8.041432</td>\n",
              "      <td>20.000000</td>\n",
              "      <td>29.000000</td>\n",
              "      <td>34.000000</td>\n",
              "      <td>41.000000</td>\n",
              "      <td>56.00000</td>\n",
              "    </tr>\n",
              "    <tr>\n",
              "      <th>ed</th>\n",
              "      <td>850.0</td>\n",
              "      <td>1.710588</td>\n",
              "      <td>0.927784</td>\n",
              "      <td>1.000000</td>\n",
              "      <td>1.000000</td>\n",
              "      <td>1.000000</td>\n",
              "      <td>2.000000</td>\n",
              "      <td>5.00000</td>\n",
              "    </tr>\n",
              "    <tr>\n",
              "      <th>employ</th>\n",
              "      <td>850.0</td>\n",
              "      <td>8.565882</td>\n",
              "      <td>6.777884</td>\n",
              "      <td>0.000000</td>\n",
              "      <td>3.000000</td>\n",
              "      <td>7.000000</td>\n",
              "      <td>13.000000</td>\n",
              "      <td>33.00000</td>\n",
              "    </tr>\n",
              "    <tr>\n",
              "      <th>address</th>\n",
              "      <td>850.0</td>\n",
              "      <td>8.371765</td>\n",
              "      <td>6.895016</td>\n",
              "      <td>0.000000</td>\n",
              "      <td>3.000000</td>\n",
              "      <td>7.000000</td>\n",
              "      <td>12.000000</td>\n",
              "      <td>34.00000</td>\n",
              "    </tr>\n",
              "    <tr>\n",
              "      <th>income</th>\n",
              "      <td>846.0</td>\n",
              "      <td>46.492908</td>\n",
              "      <td>38.369605</td>\n",
              "      <td>13.000000</td>\n",
              "      <td>24.000000</td>\n",
              "      <td>35.000000</td>\n",
              "      <td>55.000000</td>\n",
              "      <td>446.00000</td>\n",
              "    </tr>\n",
              "    <tr>\n",
              "      <th>debtinc</th>\n",
              "      <td>850.0</td>\n",
              "      <td>10.171647</td>\n",
              "      <td>6.719441</td>\n",
              "      <td>0.100000</td>\n",
              "      <td>5.100000</td>\n",
              "      <td>8.700000</td>\n",
              "      <td>13.800000</td>\n",
              "      <td>41.30000</td>\n",
              "    </tr>\n",
              "    <tr>\n",
              "      <th>creddebt</th>\n",
              "      <td>850.0</td>\n",
              "      <td>1.576805</td>\n",
              "      <td>2.125840</td>\n",
              "      <td>0.011696</td>\n",
              "      <td>0.382176</td>\n",
              "      <td>0.885091</td>\n",
              "      <td>1.898440</td>\n",
              "      <td>20.56131</td>\n",
              "    </tr>\n",
              "    <tr>\n",
              "      <th>othdebt</th>\n",
              "      <td>850.0</td>\n",
              "      <td>3.078789</td>\n",
              "      <td>3.398803</td>\n",
              "      <td>0.045584</td>\n",
              "      <td>1.045942</td>\n",
              "      <td>2.003243</td>\n",
              "      <td>3.903001</td>\n",
              "      <td>35.19750</td>\n",
              "    </tr>\n",
              "    <tr>\n",
              "      <th>default</th>\n",
              "      <td>700.0</td>\n",
              "      <td>0.261429</td>\n",
              "      <td>0.439727</td>\n",
              "      <td>0.000000</td>\n",
              "      <td>0.000000</td>\n",
              "      <td>0.000000</td>\n",
              "      <td>1.000000</td>\n",
              "      <td>1.00000</td>\n",
              "    </tr>\n",
              "  </tbody>\n",
              "</table>\n",
              "</div>\n",
              "      <button class=\"colab-df-convert\" onclick=\"convertToInteractive('df-7ecfddbc-c21b-4921-8451-059e15c941ee')\"\n",
              "              title=\"Convert this dataframe to an interactive table.\"\n",
              "              style=\"display:none;\">\n",
              "        \n",
              "  <svg xmlns=\"http://www.w3.org/2000/svg\" height=\"24px\"viewBox=\"0 0 24 24\"\n",
              "       width=\"24px\">\n",
              "    <path d=\"M0 0h24v24H0V0z\" fill=\"none\"/>\n",
              "    <path d=\"M18.56 5.44l.94 2.06.94-2.06 2.06-.94-2.06-.94-.94-2.06-.94 2.06-2.06.94zm-11 1L8.5 8.5l.94-2.06 2.06-.94-2.06-.94L8.5 2.5l-.94 2.06-2.06.94zm10 10l.94 2.06.94-2.06 2.06-.94-2.06-.94-.94-2.06-.94 2.06-2.06.94z\"/><path d=\"M17.41 7.96l-1.37-1.37c-.4-.4-.92-.59-1.43-.59-.52 0-1.04.2-1.43.59L10.3 9.45l-7.72 7.72c-.78.78-.78 2.05 0 2.83L4 21.41c.39.39.9.59 1.41.59.51 0 1.02-.2 1.41-.59l7.78-7.78 2.81-2.81c.8-.78.8-2.07 0-2.86zM5.41 20L4 18.59l7.72-7.72 1.47 1.35L5.41 20z\"/>\n",
              "  </svg>\n",
              "      </button>\n",
              "      \n",
              "  <style>\n",
              "    .colab-df-container {\n",
              "      display:flex;\n",
              "      flex-wrap:wrap;\n",
              "      gap: 12px;\n",
              "    }\n",
              "\n",
              "    .colab-df-convert {\n",
              "      background-color: #E8F0FE;\n",
              "      border: none;\n",
              "      border-radius: 50%;\n",
              "      cursor: pointer;\n",
              "      display: none;\n",
              "      fill: #1967D2;\n",
              "      height: 32px;\n",
              "      padding: 0 0 0 0;\n",
              "      width: 32px;\n",
              "    }\n",
              "\n",
              "    .colab-df-convert:hover {\n",
              "      background-color: #E2EBFA;\n",
              "      box-shadow: 0px 1px 2px rgba(60, 64, 67, 0.3), 0px 1px 3px 1px rgba(60, 64, 67, 0.15);\n",
              "      fill: #174EA6;\n",
              "    }\n",
              "\n",
              "    [theme=dark] .colab-df-convert {\n",
              "      background-color: #3B4455;\n",
              "      fill: #D2E3FC;\n",
              "    }\n",
              "\n",
              "    [theme=dark] .colab-df-convert:hover {\n",
              "      background-color: #434B5C;\n",
              "      box-shadow: 0px 1px 3px 1px rgba(0, 0, 0, 0.15);\n",
              "      filter: drop-shadow(0px 1px 2px rgba(0, 0, 0, 0.3));\n",
              "      fill: #FFFFFF;\n",
              "    }\n",
              "  </style>\n",
              "\n",
              "      <script>\n",
              "        const buttonEl =\n",
              "          document.querySelector('#df-7ecfddbc-c21b-4921-8451-059e15c941ee button.colab-df-convert');\n",
              "        buttonEl.style.display =\n",
              "          google.colab.kernel.accessAllowed ? 'block' : 'none';\n",
              "\n",
              "        async function convertToInteractive(key) {\n",
              "          const element = document.querySelector('#df-7ecfddbc-c21b-4921-8451-059e15c941ee');\n",
              "          const dataTable =\n",
              "            await google.colab.kernel.invokeFunction('convertToInteractive',\n",
              "                                                     [key], {});\n",
              "          if (!dataTable) return;\n",
              "\n",
              "          const docLinkHtml = 'Like what you see? Visit the ' +\n",
              "            '<a target=\"_blank\" href=https://colab.research.google.com/notebooks/data_table.ipynb>data table notebook</a>'\n",
              "            + ' to learn more about interactive tables.';\n",
              "          element.innerHTML = '';\n",
              "          dataTable['output_type'] = 'display_data';\n",
              "          await google.colab.output.renderOutput(dataTable, element);\n",
              "          const docLink = document.createElement('div');\n",
              "          docLink.innerHTML = docLinkHtml;\n",
              "          element.appendChild(docLink);\n",
              "        }\n",
              "      </script>\n",
              "    </div>\n",
              "  </div>\n",
              "  "
            ]
          },
          "metadata": {},
          "execution_count": 48
        }
      ]
    },
    {
      "cell_type": "markdown",
      "source": [
        "# **Observations**\n",
        "\n",
        "* **For this bank, the average age of a customers is 35. The range of age group is 20 - 60**\n",
        "\n",
        "* **The average income of a customer is 46 and max is 446.**"
      ],
      "metadata": {
        "id": "xxzI4FbOcrt7"
      }
    },
    {
      "cell_type": "code",
      "source": [
        "# Missing values % from the data and the variables have missing > 0\n",
        "\n",
        "print(f'Percentahe of total missing values = {((df.isnull().sum().sum() / df.size)*100).round(2)}%')\n",
        "\n",
        "miss = (df.isnull().sum()/df.shape[0])*100\n",
        "\n",
        "print(\"Missing percentage variables > 0\\n\",miss[miss > 0].round(2))"
      ],
      "metadata": {
        "colab": {
          "base_uri": "https://localhost:8080/"
        },
        "collapsed": true,
        "id": "toSt6d3-aq9M",
        "outputId": "449969fa-3b12-4aaf-83a9-57bf1714d8dc"
      },
      "execution_count": null,
      "outputs": [
        {
          "output_type": "stream",
          "name": "stdout",
          "text": [
            "Percentahe of total missing values = 2.01%\n",
            "Missing percentage variables > 0\n",
            " income      0.47\n",
            "default    17.65\n",
            "dtype: float64\n"
          ]
        }
      ]
    },
    {
      "cell_type": "markdown",
      "source": [
        "# **Observations**\n",
        "\n",
        "* **The total percentage of missing values is 2.01%**\n",
        "\n",
        "* **Totally 17% of the data is misiing from target and 0.5% from income**"
      ],
      "metadata": {
        "id": "vwjgCZBxcZFL"
      }
    },
    {
      "cell_type": "code",
      "source": [
        "# Checking data imbalance - Class[0, 1]\n",
        "\n",
        "print(round(df['default'].value_counts() / len(df['default']) * 100, 2))"
      ],
      "metadata": {
        "colab": {
          "base_uri": "https://localhost:8080/"
        },
        "collapsed": true,
        "id": "PparRhNpnnla",
        "outputId": "e4d6944e-29b0-4b6e-9a64-0836080deeca"
      },
      "execution_count": null,
      "outputs": [
        {
          "output_type": "stream",
          "name": "stdout",
          "text": [
            "0.0    60.82\n",
            "1.0    21.53\n",
            "Name: default, dtype: float64\n"
          ]
        }
      ]
    },
    {
      "cell_type": "markdown",
      "source": [
        "# **Observation**\n",
        "\n",
        "* **From this, it's clear that ther target is imbalance**\n",
        "\n",
        "* **The Default customers is 3X < Nevere default**"
      ],
      "metadata": {
        "id": "JG2s1yN_oJzF"
      }
    },
    {
      "cell_type": "markdown",
      "source": [
        "# **Data Cleaning**\n",
        "---"
      ],
      "metadata": {
        "id": "qfuO1jbHhXkk"
      }
    },
    {
      "cell_type": "code",
      "source": [
        "# Filling nan values to 0 in income catgeory\n",
        "\n",
        "df['income'] = df['income'].fillna(df['income'].mean())"
      ],
      "metadata": {
        "id": "x6ZioZPIhrqd"
      },
      "execution_count": null,
      "outputs": []
    },
    {
      "cell_type": "code",
      "source": [
        "# since there are 150 records are missing from the target - creating a new subset for testing\n",
        "\n",
        "test_df = df[df['default'].isna()]  # --- This data is for forecasting\n",
        "\n",
        "# Dropping all nan records from the original data\n",
        "\n",
        "df.dropna(inplace = True)\n",
        "\n",
        "# finall Shape of the model building data and test data\n",
        "\n",
        "print(\"Original Data\\nRows : {} \\n columns : {}\".format(df.shape[0],df.shape[1]))\n",
        "\n",
        "print(\"Forecasting Data\\nRows : {} \\n columns : {}\".format(test_df.shape[0],test_df.shape[1]))"
      ],
      "metadata": {
        "colab": {
          "base_uri": "https://localhost:8080/"
        },
        "collapsed": true,
        "id": "_PcrQ4VOiW3F",
        "outputId": "9d2c689b-9ffd-4e64-b615-44b4d2905aa6"
      },
      "execution_count": null,
      "outputs": [
        {
          "output_type": "stream",
          "name": "stdout",
          "text": [
            "Original Data\n",
            "Rows : 700 \n",
            " columns : 9\n",
            "Forecasting Data\n",
            "Rows : 150 \n",
            " columns : 9\n"
          ]
        }
      ]
    },
    {
      "cell_type": "code",
      "source": [
        "# converting target variable from float to integer for simplicity\n",
        "\n",
        "df['default'] = df['default'].astype(int)"
      ],
      "metadata": {
        "id": "vNC1Daw2jhCM"
      },
      "execution_count": null,
      "outputs": []
    },
    {
      "cell_type": "markdown",
      "source": [
        "# **EDA**\n",
        "\n",
        "\n",
        "\n",
        "---"
      ],
      "metadata": {
        "id": "CnhCQgNvrR2L"
      }
    },
    {
      "cell_type": "markdown",
      "source": [
        "# **Bivariate Analysis**\n",
        "\n",
        "* **Distribution of independent variables with respect to dependent**\n",
        "\n",
        "    * How the x - independent features are impacting the target - y"
      ],
      "metadata": {
        "id": "jj7no2wupwKg"
      }
    },
    {
      "cell_type": "code",
      "source": [
        "# Plotting box - plot with respeect to target to identify how all the variables are impacting the target\n",
        "\n",
        "specs = [[{'type': 'box'}, {'type': 'box'}],\n",
        "         [{'type': 'box'}, {'type': 'box'}],\n",
        "         [{'type': 'box'}, {'type': 'box'}],\n",
        "         [{'type': 'box'}, {'type': 'box'}]]\n",
        "\n",
        "fig = go.Figure()\n",
        "\n",
        "fig = make_subplots(rows = 4, cols = 2, specs = specs)\n",
        "\n",
        "row, col = 1, 1\n",
        "\n",
        "for i in df.columns:\n",
        "    if i != 'default':\n",
        "        fig.add_trace(go.Box(x = df['default'], y = df[i], name = i), row = row, col = col)\n",
        "        fig.update_xaxes(title_text = 'Default', row = row, col = col)\n",
        "        fig.update_yaxes(title_text = i, row = row, col = col)\n",
        "        fig.update_layout(width = 1400, height = 1000)\n",
        "        \n",
        "        if col == 2:\n",
        "            row += 1\n",
        "            col = 1\n",
        "        else:\n",
        "            col += 1\n",
        "\n",
        "fig.update_layout(title=\"Boxplot - of All Features with respect to Default\")\n",
        "fig.show()"
      ],
      "metadata": {
        "colab": {
          "base_uri": "https://localhost:8080/",
          "height": 1000
        },
        "collapsed": true,
        "id": "p4ZPyXnLEiFR",
        "outputId": "ac2a8d28-d958-4bbf-efc7-0ab5ed0471d0"
      },
      "execution_count": null,
      "outputs": [
        {
          "output_type": "display_data",
          "data": {
            "text/html": [
              "<html>\n",
              "<head><meta charset=\"utf-8\" /></head>\n",
              "<body>\n",
              "    <div>            <script src=\"https://cdnjs.cloudflare.com/ajax/libs/mathjax/2.7.5/MathJax.js?config=TeX-AMS-MML_SVG\"></script><script type=\"text/javascript\">if (window.MathJax && window.MathJax.Hub && window.MathJax.Hub.Config) {window.MathJax.Hub.Config({SVG: {font: \"STIX-Web\"}});}</script>                <script type=\"text/javascript\">window.PlotlyConfig = {MathJaxConfig: 'local'};</script>\n",
              "        <script src=\"https://cdn.plot.ly/plotly-2.18.2.min.js\"></script>                <div id=\"5cd1b3c6-6e47-4fd6-8cd2-bb44d7df7d2e\" class=\"plotly-graph-div\" style=\"height:1000px; width:1400px;\"></div>            <script type=\"text/javascript\">                                    window.PLOTLYENV=window.PLOTLYENV || {};                                    if (document.getElementById(\"5cd1b3c6-6e47-4fd6-8cd2-bb44d7df7d2e\")) {                    Plotly.newPlot(                        \"5cd1b3c6-6e47-4fd6-8cd2-bb44d7df7d2e\",                        [{\"name\":\"age\",\"x\":[1,0,0,0,1,0,0,0,1,0,0,0,0,0,0,1,1,0,0,0,0,0,0,0,1,0,0,0,0,0,0,0,0,0,0,0,0,0,1,0,0,0,0,0,1,0,0,0,1,0,1,0,1,0,0,1,0,0,0,0,0,1,0,0,0,1,1,0,1,1,0,0,0,0,0,0,0,0,0,0,1,0,0,0,0,0,1,0,0,1,0,1,0,1,1,0,0,0,0,1,0,0,0,0,0,0,1,0,0,0,0,0,0,0,0,0,0,0,1,1,0,1,1,1,0,0,1,0,0,0,0,0,0,0,0,0,0,0,0,1,1,1,0,0,0,0,0,0,0,0,0,1,0,0,0,0,0,1,1,0,0,0,1,0,1,1,1,0,0,0,0,0,1,0,0,0,0,0,0,1,0,0,0,0,0,0,1,0,0,0,1,0,1,1,0,0,1,0,0,1,0,1,0,0,0,0,0,0,0,0,0,1,0,1,0,0,0,0,1,1,0,0,0,1,1,0,0,0,0,0,0,1,0,0,0,0,0,1,0,1,0,0,0,0,0,0,0,0,0,0,0,1,0,0,0,0,0,0,0,0,0,0,0,1,0,0,0,1,0,0,0,0,0,0,0,1,1,0,1,0,1,1,0,0,0,0,0,1,0,0,0,0,0,0,1,0,0,0,1,0,1,0,0,0,0,0,0,0,0,0,1,0,1,0,0,0,0,0,0,1,0,1,0,1,1,1,0,0,0,0,0,1,1,0,0,0,0,0,1,1,0,0,0,1,0,1,0,0,0,0,0,0,0,0,1,1,1,1,0,0,0,0,0,0,1,0,0,0,0,0,0,0,0,1,0,0,0,0,0,0,0,1,1,0,1,0,0,0,0,0,0,1,0,1,1,0,0,0,0,1,0,0,0,1,0,0,0,0,0,0,0,0,0,1,1,0,0,0,1,0,1,0,0,0,1,0,0,0,1,0,1,0,0,1,0,0,0,0,0,0,0,0,0,1,1,0,0,0,1,1,0,0,0,0,1,0,0,0,0,0,0,1,0,0,0,0,1,0,0,1,1,1,0,0,0,0,1,0,0,0,0,1,0,0,1,0,1,1,1,0,0,1,1,1,1,1,0,0,1,1,0,1,0,0,1,0,0,0,0,0,0,0,0,0,1,0,0,0,0,0,0,0,0,0,0,0,0,0,0,1,1,1,1,0,0,0,0,1,0,1,0,0,0,1,0,0,0,0,1,1,1,1,0,0,0,0,0,0,1,0,0,0,0,0,1,1,0,0,1,0,1,0,0,1,1,0,1,0,0,0,0,0,0,1,1,0,0,0,0,1,1,1,0,0,1,0,1,1,0,1,0,0,0,0,1,0,1,0,0,0,1,0,1,0,0,0,1,1,1,0,0,0,0,0,0,0,0,0,0,0,0,0,1,1,0,0,1,1,0,0,0,0,0,0,0,1,0,0,0,0,1,0,0,1,0,0,0,0,0,0,0,1,0,0,0,0,0,0,0,0,0,0,0,1,0,0,0,1,0,0,1,1,0,0,0,1,0,1,0,0,0,0,1,0,0,1,0,0,0,0],\"y\":[41,27,40,41,24,41,39,43,24,36,27,25,52,37,48,36,36,43,39,41,39,47,28,29,21,25,45,43,33,26,45,30,27,25,25,26,30,32,28,45,23,34,42,39,26,21,35,47,23,35,34,46,46,38,40,37,35,39,40,50,31,29,37,33,26,32,28,39,28,29,34,28,47,43,41,47,24,29,33,36,26,31,37,35,26,40,29,37,32,23,32,25,38,32,41,36,42,41,29,38,39,36,33,42,41,40,53,28,36,34,45,38,21,42,52,25,34,40,31,25,45,23,34,31,28,41,39,29,21,41,26,33,45,39,24,29,27,40,29,29,24,27,41,31,41,42,28,30,30,31,45,43,36,28,27,36,33,54,33,31,21,28,31,32,35,40,22,39,41,34,29,31,32,32,33,26,21,28,37,33,39,40,45,27,28,39,40,27,36,55,27,30,36,31,33,30,24,33,50,31,28,44,48,36,29,40,33,26,36,26,40,44,29,35,34,34,46,41,27,27,28,48,48,29,43,23,29,40,22,23,46,55,38,35,30,24,26,32,37,39,30,30,32,54,27,31,39,31,35,35,46,33,35,35,38,41,38,34,51,34,47,34,27,52,39,33,34,31,28,39,51,22,27,32,28,27,26,32,30,39,31,34,31,29,29,35,29,38,35,29,23,33,51,24,31,45,29,34,25,37,47,43,47,24,27,25,36,39,26,41,39,37,29,42,31,36,39,23,39,27,24,27,41,38,40,54,40,40,29,30,29,29,28,28,39,32,36,39,28,28,46,30,39,40,44,30,24,32,29,40,41,22,38,37,41,41,39,24,32,21,29,35,29,41,37,32,36,39,36,46,34,27,43,33,39,29,34,26,31,26,28,48,39,37,52,48,26,46,31,34,40,24,33,53,47,35,34,49,26,23,23,38,28,30,34,50,29,42,31,39,45,45,36,25,29,30,31,43,32,47,46,43,48,30,23,36,20,43,23,41,34,50,40,29,39,24,27,40,32,39,40,32,39,24,43,56,32,42,46,31,43,28,39,39,37,30,37,22,50,30,39,21,31,31,48,28,47,27,29,21,29,24,44,22,38,52,25,25,51,38,44,24,34,25,45,34,27,33,35,50,33,41,28,38,25,47,30,44,25,41,22,35,42,38,23,28,52,25,28,43,24,34,29,31,42,49,39,45,41,29,35,27,28,48,24,31,43,42,51,22,37,22,49,29,42,34,34,32,42,24,34,26,30,32,38,43,31,37,37,41,32,22,32,47,40,31,34,52,28,38,33,39,47,36,29,48,38,46,27,54,27,23,41,24,28,26,24,49,28,38,33,26,36,37,25,29,27,45,37,29,51,22,30,31,28,35,25,32,33,28,46,41,42,41,26,47,29,34,36,38,41,46,40,44,35,36,28,29,23,41,25,45,48,38,29,42,31,40,26,25,53,50,47,23,37,41,28,31,41,36,41,53,31,28,48,23,31,27,43,29,53,38,30,28,36,48,31,35,50,42,40,37,31,38,35,44,44,33,35,36,23,27,34,35,24,48,26,40,34,35,30,20,36,21,34,35,35,34,33,30,24,47,53,22,48,36,29,33,45,37],\"type\":\"box\",\"xaxis\":\"x\",\"yaxis\":\"y\"},{\"name\":\"ed\",\"x\":[1,0,0,0,1,0,0,0,1,0,0,0,0,0,0,1,1,0,0,0,0,0,0,0,1,0,0,0,0,0,0,0,0,0,0,0,0,0,1,0,0,0,0,0,1,0,0,0,1,0,1,0,1,0,0,1,0,0,0,0,0,1,0,0,0,1,1,0,1,1,0,0,0,0,0,0,0,0,0,0,1,0,0,0,0,0,1,0,0,1,0,1,0,1,1,0,0,0,0,1,0,0,0,0,0,0,1,0,0,0,0,0,0,0,0,0,0,0,1,1,0,1,1,1,0,0,1,0,0,0,0,0,0,0,0,0,0,0,0,1,1,1,0,0,0,0,0,0,0,0,0,1,0,0,0,0,0,1,1,0,0,0,1,0,1,1,1,0,0,0,0,0,1,0,0,0,0,0,0,1,0,0,0,0,0,0,1,0,0,0,1,0,1,1,0,0,1,0,0,1,0,1,0,0,0,0,0,0,0,0,0,1,0,1,0,0,0,0,1,1,0,0,0,1,1,0,0,0,0,0,0,1,0,0,0,0,0,1,0,1,0,0,0,0,0,0,0,0,0,0,0,1,0,0,0,0,0,0,0,0,0,0,0,1,0,0,0,1,0,0,0,0,0,0,0,1,1,0,1,0,1,1,0,0,0,0,0,1,0,0,0,0,0,0,1,0,0,0,1,0,1,0,0,0,0,0,0,0,0,0,1,0,1,0,0,0,0,0,0,1,0,1,0,1,1,1,0,0,0,0,0,1,1,0,0,0,0,0,1,1,0,0,0,1,0,1,0,0,0,0,0,0,0,0,1,1,1,1,0,0,0,0,0,0,1,0,0,0,0,0,0,0,0,1,0,0,0,0,0,0,0,1,1,0,1,0,0,0,0,0,0,1,0,1,1,0,0,0,0,1,0,0,0,1,0,0,0,0,0,0,0,0,0,1,1,0,0,0,1,0,1,0,0,0,1,0,0,0,1,0,1,0,0,1,0,0,0,0,0,0,0,0,0,1,1,0,0,0,1,1,0,0,0,0,1,0,0,0,0,0,0,1,0,0,0,0,1,0,0,1,1,1,0,0,0,0,1,0,0,0,0,1,0,0,1,0,1,1,1,0,0,1,1,1,1,1,0,0,1,1,0,1,0,0,1,0,0,0,0,0,0,0,0,0,1,0,0,0,0,0,0,0,0,0,0,0,0,0,0,1,1,1,1,0,0,0,0,1,0,1,0,0,0,1,0,0,0,0,1,1,1,1,0,0,0,0,0,0,1,0,0,0,0,0,1,1,0,0,1,0,1,0,0,1,1,0,1,0,0,0,0,0,0,1,1,0,0,0,0,1,1,1,0,0,1,0,1,1,0,1,0,0,0,0,1,0,1,0,0,0,1,0,1,0,0,0,1,1,1,0,0,0,0,0,0,0,0,0,0,0,0,0,1,1,0,0,1,1,0,0,0,0,0,0,0,1,0,0,0,0,1,0,0,1,0,0,0,0,0,0,0,1,0,0,0,0,0,0,0,0,0,0,0,1,0,0,0,1,0,0,1,1,0,0,0,1,0,1,0,0,0,0,1,0,0,1,0,0,0,0],\"y\":[3,1,1,1,2,2,1,1,1,1,1,1,1,1,1,2,2,1,1,3,1,1,1,1,2,4,2,1,2,3,1,1,3,1,1,2,2,2,2,1,1,1,2,1,1,2,1,1,2,1,1,1,1,3,2,1,1,2,3,3,1,1,1,2,2,2,2,1,2,1,2,2,1,4,1,1,1,1,1,1,1,1,1,4,1,1,2,3,1,2,1,1,1,2,3,1,3,1,2,3,1,1,1,2,2,1,1,1,2,2,3,1,3,1,1,2,2,2,2,1,1,1,4,1,1,1,2,2,1,2,4,1,2,1,1,2,2,1,1,2,1,1,3,1,1,2,4,4,1,1,2,1,1,1,2,3,1,1,1,1,1,3,2,1,2,2,1,1,4,1,1,1,1,1,1,1,1,2,1,2,1,2,3,1,4,1,1,1,1,1,2,1,1,1,2,1,1,4,1,2,1,3,4,2,3,3,1,2,1,2,3,1,3,3,1,3,1,2,2,4,1,3,3,3,2,1,2,4,2,1,3,1,2,2,1,1,2,2,2,1,2,1,2,3,3,1,1,1,1,2,2,1,2,2,1,1,1,3,3,2,1,2,2,1,1,1,1,3,1,1,2,1,3,1,2,2,2,1,1,1,1,1,1,2,1,2,1,2,1,1,2,4,2,1,1,1,1,1,2,1,1,2,1,1,3,1,3,1,1,1,1,1,1,1,4,1,1,4,1,3,1,3,1,1,2,1,1,1,1,1,1,3,4,4,2,1,2,1,3,1,1,2,2,3,2,1,2,1,2,2,2,1,1,2,3,3,1,2,3,3,1,2,1,2,1,2,5,2,1,3,1,1,1,1,2,1,4,1,1,1,1,1,2,1,5,1,1,5,1,1,1,3,1,4,3,1,1,1,2,1,2,2,2,3,1,2,1,3,1,1,2,1,1,4,2,2,1,1,2,1,1,2,1,3,4,4,3,1,1,1,1,1,1,2,2,2,1,3,2,2,1,1,1,1,4,1,3,1,3,1,1,2,3,1,4,1,5,1,1,1,1,2,3,2,1,1,3,2,2,2,1,4,1,1,2,2,1,1,2,1,1,2,1,2,3,2,4,2,2,2,1,3,1,3,1,2,2,2,1,2,3,2,5,1,2,3,1,1,2,1,2,3,2,1,2,2,1,3,1,2,3,2,1,1,1,1,1,1,2,1,1,3,2,1,1,1,2,2,2,1,1,1,2,1,3,2,2,4,2,3,1,2,2,2,1,1,3,4,1,3,2,2,3,2,3,4,3,2,3,1,4,1,1,1,1,1,1,2,2,1,2,1,1,3,4,1,2,1,1,2,1,3,4,1,1,1,4,2,1,2,3,1,2,4,1,1,1,1,1,2,2,1,3,2,3,1,2,2,2,2,1,2,2,1,1,4,1,1,1,1,4,3,1,1,3,1,2,1,2,1,1,2,2,2,1,2,1,1,1,2,1,1,1,3,1,1,1,1,1,2,1,2,3,1,1,1,2,1,1,3,2,1,1,1,2,1,2,1,1,1,1,1,4,1,1,1,3,1,1,1,2,1,1,3,2,2,2,1,1,1],\"type\":\"box\",\"xaxis\":\"x2\",\"yaxis\":\"y2\"},{\"name\":\"employ\",\"x\":[1,0,0,0,1,0,0,0,1,0,0,0,0,0,0,1,1,0,0,0,0,0,0,0,1,0,0,0,0,0,0,0,0,0,0,0,0,0,1,0,0,0,0,0,1,0,0,0,1,0,1,0,1,0,0,1,0,0,0,0,0,1,0,0,0,1,1,0,1,1,0,0,0,0,0,0,0,0,0,0,1,0,0,0,0,0,1,0,0,1,0,1,0,1,1,0,0,0,0,1,0,0,0,0,0,0,1,0,0,0,0,0,0,0,0,0,0,0,1,1,0,1,1,1,0,0,1,0,0,0,0,0,0,0,0,0,0,0,0,1,1,1,0,0,0,0,0,0,0,0,0,1,0,0,0,0,0,1,1,0,0,0,1,0,1,1,1,0,0,0,0,0,1,0,0,0,0,0,0,1,0,0,0,0,0,0,1,0,0,0,1,0,1,1,0,0,1,0,0,1,0,1,0,0,0,0,0,0,0,0,0,1,0,1,0,0,0,0,1,1,0,0,0,1,1,0,0,0,0,0,0,1,0,0,0,0,0,1,0,1,0,0,0,0,0,0,0,0,0,0,0,1,0,0,0,0,0,0,0,0,0,0,0,1,0,0,0,1,0,0,0,0,0,0,0,1,1,0,1,0,1,1,0,0,0,0,0,1,0,0,0,0,0,0,1,0,0,0,1,0,1,0,0,0,0,0,0,0,0,0,1,0,1,0,0,0,0,0,0,1,0,1,0,1,1,1,0,0,0,0,0,1,1,0,0,0,0,0,1,1,0,0,0,1,0,1,0,0,0,0,0,0,0,0,1,1,1,1,0,0,0,0,0,0,1,0,0,0,0,0,0,0,0,1,0,0,0,0,0,0,0,1,1,0,1,0,0,0,0,0,0,1,0,1,1,0,0,0,0,1,0,0,0,1,0,0,0,0,0,0,0,0,0,1,1,0,0,0,1,0,1,0,0,0,1,0,0,0,1,0,1,0,0,1,0,0,0,0,0,0,0,0,0,1,1,0,0,0,1,1,0,0,0,0,1,0,0,0,0,0,0,1,0,0,0,0,1,0,0,1,1,1,0,0,0,0,1,0,0,0,0,1,0,0,1,0,1,1,1,0,0,1,1,1,1,1,0,0,1,1,0,1,0,0,1,0,0,0,0,0,0,0,0,0,1,0,0,0,0,0,0,0,0,0,0,0,0,0,0,1,1,1,1,0,0,0,0,1,0,1,0,0,0,1,0,0,0,0,1,1,1,1,0,0,0,0,0,0,1,0,0,0,0,0,1,1,0,0,1,0,1,0,0,1,1,0,1,0,0,0,0,0,0,1,1,0,0,0,0,1,1,1,0,0,1,0,1,1,0,1,0,0,0,0,1,0,1,0,0,0,1,0,1,0,0,0,1,1,1,0,0,0,0,0,0,0,0,0,0,0,0,0,1,1,0,0,1,1,0,0,0,0,0,0,0,1,0,0,0,0,1,0,0,1,0,0,0,0,0,0,0,1,0,0,0,0,0,0,0,0,0,0,0,1,0,0,0,1,0,0,1,1,0,0,0,1,0,1,0,0,0,0,1,0,0,1,0,0,0,0],\"y\":[17,10,15,15,2,5,20,12,3,0,0,4,24,6,22,9,13,23,6,0,22,17,3,8,1,0,9,25,12,2,3,1,2,8,8,6,10,12,1,23,7,17,7,19,0,0,13,4,0,18,2,1,16,3,3,1,9,16,18,10,9,13,4,4,5,11,2,19,8,1,3,5,26,1,13,13,2,1,14,15,4,11,7,4,4,10,5,5,12,0,3,1,5,0,2,17,13,14,4,4,22,6,8,21,22,8,9,4,12,9,2,6,0,12,16,4,9,15,0,1,12,3,6,2,5,7,7,9,5,19,1,5,18,17,7,6,1,13,8,4,0,9,16,11,16,5,1,2,11,8,15,13,4,8,3,13,12,9,9,9,4,5,2,8,1,13,4,4,14,16,7,4,1,14,6,6,1,7,13,2,12,8,16,10,0,13,14,11,1,19,4,1,10,1,13,4,1,9,8,6,3,8,3,0,7,17,7,6,14,6,16,5,1,5,16,12,14,21,7,0,11,0,17,5,9,5,10,5,0,7,9,3,8,5,11,7,4,2,11,6,4,10,7,21,3,12,15,5,15,10,22,13,13,1,5,19,18,2,16,10,15,8,8,9,9,7,0,9,2,19,22,4,6,16,6,1,2,14,0,13,11,15,8,1,9,9,11,2,16,11,3,9,19,4,10,10,3,0,4,20,29,6,22,6,5,9,11,16,10,4,19,18,2,6,1,4,16,0,4,4,8,3,16,0,5,25,12,2,1,8,1,3,2,0,16,11,7,20,6,4,6,4,15,5,18,0,3,10,3,2,8,1,10,6,18,7,2,0,9,0,13,14,6,2,0,3,5,18,18,22,13,7,8,14,20,1,7,1,15,10,12,13,2,3,9,3,7,15,7,13,22,2,2,5,9,5,14,11,0,2,0,4,5,0,18,16,12,0,13,10,21,22,14,0,1,8,1,4,11,19,1,16,3,8,0,8,0,16,2,21,12,11,9,0,9,1,0,18,8,16,22,10,23,3,18,11,5,7,3,2,25,6,11,0,1,0,9,4,1,10,8,0,9,9,0,4,16,6,6,2,7,0,12,1,13,12,3,5,27,21,9,2,5,6,5,4,2,10,0,15,13,13,0,12,3,4,12,12,0,6,0,3,6,3,1,2,19,9,1,19,3,13,6,6,14,11,22,0,7,9,7,5,4,17,2,6,10,3,31,4,6,1,2,9,2,15,9,5,18,3,16,10,12,4,13,10,9,10,4,12,0,0,12,17,21,8,7,13,2,15,10,9,23,11,7,14,12,9,5,18,0,1,23,3,9,0,8,22,3,6,2,8,9,16,0,9,8,17,9,3,10,0,7,7,2,10,1,5,2,3,4,24,11,9,3,27,1,3,7,7,4,9,3,17,10,20,0,6,3,7,1,2,30,18,6,15,11,3,2,6,7,18,31,1,12,24,0,7,6,7,1,16,6,5,28,0,11,6,11,5,6,4,12,2,11,15,12,16,4,12,2,0,6,11,15,24,21,0,7,10,3,0,6,0,4,30,8,6,9,17,7,4,1,1,18,7,1,10,12,4,0,31,0,0,6,6,6,15,19,12],\"type\":\"box\",\"xaxis\":\"x3\",\"yaxis\":\"y3\"},{\"name\":\"address\",\"x\":[1,0,0,0,1,0,0,0,1,0,0,0,0,0,0,1,1,0,0,0,0,0,0,0,1,0,0,0,0,0,0,0,0,0,0,0,0,0,1,0,0,0,0,0,1,0,0,0,1,0,1,0,1,0,0,1,0,0,0,0,0,1,0,0,0,1,1,0,1,1,0,0,0,0,0,0,0,0,0,0,1,0,0,0,0,0,1,0,0,1,0,1,0,1,1,0,0,0,0,1,0,0,0,0,0,0,1,0,0,0,0,0,0,0,0,0,0,0,1,1,0,1,1,1,0,0,1,0,0,0,0,0,0,0,0,0,0,0,0,1,1,1,0,0,0,0,0,0,0,0,0,1,0,0,0,0,0,1,1,0,0,0,1,0,1,1,1,0,0,0,0,0,1,0,0,0,0,0,0,1,0,0,0,0,0,0,1,0,0,0,1,0,1,1,0,0,1,0,0,1,0,1,0,0,0,0,0,0,0,0,0,1,0,1,0,0,0,0,1,1,0,0,0,1,1,0,0,0,0,0,0,1,0,0,0,0,0,1,0,1,0,0,0,0,0,0,0,0,0,0,0,1,0,0,0,0,0,0,0,0,0,0,0,1,0,0,0,1,0,0,0,0,0,0,0,1,1,0,1,0,1,1,0,0,0,0,0,1,0,0,0,0,0,0,1,0,0,0,1,0,1,0,0,0,0,0,0,0,0,0,1,0,1,0,0,0,0,0,0,1,0,1,0,1,1,1,0,0,0,0,0,1,1,0,0,0,0,0,1,1,0,0,0,1,0,1,0,0,0,0,0,0,0,0,1,1,1,1,0,0,0,0,0,0,1,0,0,0,0,0,0,0,0,1,0,0,0,0,0,0,0,1,1,0,1,0,0,0,0,0,0,1,0,1,1,0,0,0,0,1,0,0,0,1,0,0,0,0,0,0,0,0,0,1,1,0,0,0,1,0,1,0,0,0,1,0,0,0,1,0,1,0,0,1,0,0,0,0,0,0,0,0,0,1,1,0,0,0,1,1,0,0,0,0,1,0,0,0,0,0,0,1,0,0,0,0,1,0,0,1,1,1,0,0,0,0,1,0,0,0,0,1,0,0,1,0,1,1,1,0,0,1,1,1,1,1,0,0,1,1,0,1,0,0,1,0,0,0,0,0,0,0,0,0,1,0,0,0,0,0,0,0,0,0,0,0,0,0,0,1,1,1,1,0,0,0,0,1,0,1,0,0,0,1,0,0,0,0,1,1,1,1,0,0,0,0,0,0,1,0,0,0,0,0,1,1,0,0,1,0,1,0,0,1,1,0,1,0,0,0,0,0,0,1,1,0,0,0,0,1,1,1,0,0,1,0,1,1,0,1,0,0,0,0,1,0,1,0,0,0,1,0,1,0,0,0,1,1,1,0,0,0,0,0,0,0,0,0,0,0,0,0,1,1,0,0,1,1,0,0,0,0,0,0,0,1,0,0,0,0,1,0,0,1,0,0,0,0,0,0,0,1,0,0,0,0,0,0,0,0,0,0,0,1,0,0,0,1,0,0,1,1,0,0,0,1,0,1,0,0,0,0,1,0,0,1,0,0,0,0],\"y\":[12,6,14,14,0,5,9,11,4,13,1,0,14,9,15,6,6,19,9,21,3,21,6,6,2,2,26,21,8,1,15,10,7,4,1,7,4,1,8,5,2,3,23,5,0,1,15,2,2,2,11,12,18,18,2,3,1,13,6,20,10,1,0,9,7,6,3,8,3,2,8,9,21,5,10,25,1,9,2,10,3,12,3,16,3,15,4,17,12,1,10,6,5,6,0,6,0,8,9,6,9,9,7,11,17,17,18,7,13,13,5,0,2,11,25,6,9,16,4,0,19,0,3,4,9,11,2,3,1,2,7,10,19,20,2,7,0,2,10,3,2,6,22,8,17,3,3,8,1,4,14,23,10,6,5,3,11,2,4,5,0,9,1,6,8,11,2,9,3,9,9,10,0,7,14,0,1,2,5,14,10,19,21,6,7,9,21,8,4,2,3,8,0,6,2,0,0,10,27,6,7,10,23,17,1,11,6,6,11,0,6,3,10,3,3,8,25,22,8,6,6,27,26,6,5,2,8,6,3,3,10,11,16,1,9,0,3,11,4,19,4,11,10,20,4,4,16,3,11,16,17,3,3,1,13,1,19,14,25,2,1,6,7,11,6,0,1,7,9,16,23,1,4,10,7,0,6,0,11,1,6,2,3,7,0,16,7,16,15,5,4,8,25,2,12,14,1,10,5,2,18,24,19,2,1,4,12,20,1,19,15,8,0,9,6,15,4,2,15,1,4,4,22,8,12,12,6,4,8,6,1,3,4,5,9,2,16,12,8,2,19,8,19,3,4,8,0,13,8,1,21,3,8,13,6,6,15,2,10,1,7,3,7,22,18,13,12,9,9,4,11,4,11,8,17,4,15,0,2,6,7,20,12,3,0,11,3,0,10,8,4,5,14,29,1,5,8,5,7,2,4,13,2,8,10,14,2,9,12,4,26,24,17,6,7,4,1,2,4,7,15,10,7,7,4,0,1,7,1,2,5,5,4,8,16,2,5,14,2,12,1,11,1,3,14,20,9,12,13,2,16,9,17,8,14,11,16,3,26,2,0,2,2,1,23,1,26,1,10,0,5,3,3,0,0,16,2,5,21,16,20,3,3,2,17,10,8,13,16,31,13,13,2,14,2,9,9,5,2,0,1,11,23,19,3,5,25,2,4,11,1,7,9,9,1,1,9,19,22,0,5,6,7,22,5,12,9,10,14,3,10,3,13,8,16,0,7,5,23,0,9,2,9,3,18,24,8,18,11,11,4,1,3,23,21,1,0,17,2,18,4,12,11,8,2,10,18,26,4,34,0,0,2,5,0,0,0,4,1,17,9,4,1,14,1,2,4,0,8,6,1,0,10,2,0,16,1,0,10,4,17,12,5,13,5,8,3,14,2,4,14,23,15,0,15,15,3,7,3,17,1,19,14,7,4,8,12,13,6,6,11,27,9,0,8,15,7,11,1,17,16,31,5,6,25,1,6,6,17,7,7,9,10,0,2,5,9,10,4,9,3,13,8,13,1,10,14,12,14,4,4,7,1,5,4,8,1,9,8,4,2,0,17,1,10,5,4,1,12,2,5,8,26,2,1,15,4,3,22,14],\"type\":\"box\",\"xaxis\":\"x4\",\"yaxis\":\"y4\"},{\"name\":\"income\",\"x\":[1,0,0,0,1,0,0,0,1,0,0,0,0,0,0,1,1,0,0,0,0,0,0,0,1,0,0,0,0,0,0,0,0,0,0,0,0,0,1,0,0,0,0,0,1,0,0,0,1,0,1,0,1,0,0,1,0,0,0,0,0,1,0,0,0,1,1,0,1,1,0,0,0,0,0,0,0,0,0,0,1,0,0,0,0,0,1,0,0,1,0,1,0,1,1,0,0,0,0,1,0,0,0,0,0,0,1,0,0,0,0,0,0,0,0,0,0,0,1,1,0,1,1,1,0,0,1,0,0,0,0,0,0,0,0,0,0,0,0,1,1,1,0,0,0,0,0,0,0,0,0,1,0,0,0,0,0,1,1,0,0,0,1,0,1,1,1,0,0,0,0,0,1,0,0,0,0,0,0,1,0,0,0,0,0,0,1,0,0,0,1,0,1,1,0,0,1,0,0,1,0,1,0,0,0,0,0,0,0,0,0,1,0,1,0,0,0,0,1,1,0,0,0,1,1,0,0,0,0,0,0,1,0,0,0,0,0,1,0,1,0,0,0,0,0,0,0,0,0,0,0,1,0,0,0,0,0,0,0,0,0,0,0,1,0,0,0,1,0,0,0,0,0,0,0,1,1,0,1,0,1,1,0,0,0,0,0,1,0,0,0,0,0,0,1,0,0,0,1,0,1,0,0,0,0,0,0,0,0,0,1,0,1,0,0,0,0,0,0,1,0,1,0,1,1,1,0,0,0,0,0,1,1,0,0,0,0,0,1,1,0,0,0,1,0,1,0,0,0,0,0,0,0,0,1,1,1,1,0,0,0,0,0,0,1,0,0,0,0,0,0,0,0,1,0,0,0,0,0,0,0,1,1,0,1,0,0,0,0,0,0,1,0,1,1,0,0,0,0,1,0,0,0,1,0,0,0,0,0,0,0,0,0,1,1,0,0,0,1,0,1,0,0,0,1,0,0,0,1,0,1,0,0,1,0,0,0,0,0,0,0,0,0,1,1,0,0,0,1,1,0,0,0,0,1,0,0,0,0,0,0,1,0,0,0,0,1,0,0,1,1,1,0,0,0,0,1,0,0,0,0,1,0,0,1,0,1,1,1,0,0,1,1,1,1,1,0,0,1,1,0,1,0,0,1,0,0,0,0,0,0,0,0,0,1,0,0,0,0,0,0,0,0,0,0,0,0,0,0,1,1,1,1,0,0,0,0,1,0,1,0,0,0,1,0,0,0,0,1,1,1,1,0,0,0,0,0,0,1,0,0,0,0,0,1,1,0,0,1,0,1,0,0,1,1,0,1,0,0,0,0,0,0,1,1,0,0,0,0,1,1,1,0,0,1,0,1,1,0,1,0,0,0,0,1,0,1,0,0,0,1,0,1,0,0,0,1,1,1,0,0,0,0,0,0,0,0,0,0,0,0,0,1,1,0,0,1,1,0,0,0,0,0,0,0,1,0,0,0,0,1,0,0,1,0,0,0,0,0,0,0,1,0,0,0,0,0,0,0,0,0,0,0,1,0,0,0,1,0,0,1,1,0,0,0,1,0,1,0,0,0,0,1,0,0,1,0,0,0,0],\"y\":[46.49290780141844,31.0,55.0,120.0,28.0,25.0,67.0,38.0,19.0,25.0,16.0,23.0,64.0,29.0,100.0,46.49290780141844,41.0,72.0,61.0,26.0,52.0,43.0,26.0,27.0,16.0,32.0,69.0,64.0,58.0,37.0,20.0,22.0,26.0,27.0,35.0,45.0,22.0,54.0,24.0,50.0,31.0,59.0,41.0,46.49290780141844,14.0,16.0,35.0,26.0,21.0,42.0,25.0,20.0,52.0,25.0,28.0,24.0,34.0,69.0,100.0,80.0,28.0,42.0,23.0,55.0,28.0,75.0,23.0,46.0,31.0,20.0,21.0,34.0,100.0,26.0,44.0,51.0,21.0,17.0,37.0,39.0,27.0,45.0,32.0,29.0,20.0,45.0,36.0,29.0,28.0,17.0,23.0,15.0,54.0,18.0,15.0,54.0,82.0,52.0,19.0,31.0,113.0,26.0,27.0,121.0,75.0,28.0,50.0,26.0,60.0,45.0,39.0,41.0,24.0,51.0,64.0,33.0,65.0,73.0,27.0,20.0,37.0,19.0,27.0,22.0,22.0,43.0,68.0,36.0,25.0,68.0,27.0,18.0,35.0,60.0,21.0,57.0,23.0,28.0,24.0,37.0,16.0,45.0,135.0,25.0,46.49290780141844,41.0,26.0,25.0,33.0,44.0,51.0,76.0,23.0,30.0,33.0,39.0,32.0,28.0,29.0,26.0,26.0,44.0,26.0,26.0,24.0,102.0,24.0,38.0,44.0,79.0,22.0,28.0,20.0,73.0,21.0,22.0,18.0,34.0,24.0,35.0,46.0,57.0,80.0,34.0,29.0,27.0,43.0,56.0,16.0,78.0,22.0,17.0,28.0,21.0,40.0,33.0,18.0,28.0,47.0,32.0,19.0,88.0,45.0,30.0,63.0,116.0,26.0,30.0,81.0,35.0,116.0,48.0,30.0,37.0,75.0,47.0,35.0,145.0,30.0,70.0,24.0,19.0,113.0,70.0,60.0,17.0,44.0,75.0,20.0,22.0,60.0,40.0,38.0,33.0,27.0,18.0,28.0,15.0,75.0,42.0,21.0,39.0,32.0,118.0,35.0,31.0,39.0,25.0,40.0,98.0,144.0,52.0,105.0,21.0,21.0,96.0,44.0,39.0,82.0,33.0,30.0,78.0,18.0,24.0,35.0,22.0,21.0,59.0,16.0,45.0,120.0,16.0,26.0,38.0,38.0,20.0,24.0,36.0,17.0,38.0,28.0,39.0,41.0,25.0,25.0,30.0,32.0,22.0,36.0,36.0,34.0,32.0,159.0,21.0,49.0,52.0,17.0,20.0,27.0,56.0,129.0,54.0,81.0,21.0,75.0,18.0,44.0,57.0,25.0,25.0,60.0,54.0,14.0,31.0,29.0,17.0,52.0,23.0,33.0,40.0,24.0,45.0,49.0,23.0,35.0,120.0,89.0,32.0,31.0,23.0,18.0,50.0,41.0,38.0,89.0,53.0,43.0,39.0,47.0,28.0,31.0,15.0,32.0,220.0,74.0,19.0,19.0,32.0,15.0,36.0,43.0,17.0,34.0,62.0,71.0,56.0,22.0,15.0,51.0,26.0,27.0,82.0,21.0,30.0,18.0,47.0,20.0,44.0,67.0,99.0,51.0,26.0,45.0,72.0,101.0,17.0,40.0,21.0,60.0,24.0,45.0,50.0,46.0,25.0,70.0,27.0,22.0,126.0,23.0,56.0,95.0,16.0,44.0,78.0,52.0,32.0,28.0,39.0,28.0,16.0,21.0,56.0,37.0,65.0,34.0,71.0,40.0,64.0,27.0,31.0,132.0,91.0,53.0,24.0,29.0,56.0,24.0,29.0,57.0,50.0,21.0,83.0,24.0,61.0,32.0,32.0,17.0,89.0,25.0,76.0,68.0,36.0,64.0,22.0,56.0,42.0,16.0,157.0,45.0,53.0,100.0,42.0,75.0,21.0,446.0,59.0,23.0,25.0,43.0,22.0,242.0,22.0,39.0,39.0,33.0,17.0,177.0,14.0,26.0,19.0,21.0,21.0,28.0,30.0,30.0,16.0,221.0,34.0,65.0,20.0,20.0,29.0,31.0,18.0,59.0,76.0,18.0,22.0,166.0,58.0,33.0,26.0,33.0,26.0,94.0,25.0,23.0,57.0,22.0,60.0,42.0,91.0,28.0,63.0,16.0,33.0,98.0,86.0,18.0,36.0,18.0,40.0,190.0,23.0,18.0,30.0,89.0,20.0,16.0,79.0,24.0,52.0,25.0,21.0,48.0,51.0,73.0,22.0,32.0,46.0,38.0,25.0,19.0,66.0,18.0,33.0,69.0,24.0,249.0,19.0,31.0,25.0,20.0,30.0,30.0,67.0,27.0,43.0,66.0,14.0,48.0,32.0,68.0,16.0,25.0,37.0,53.0,123.0,20.0,86.0,20.0,35.0,63.0,41.0,46.0,22.0,27.0,234.0,17.0,63.0,26.0,32.0,115.0,49.0,84.0,59.0,64.0,15.0,42.0,114.0,25.0,17.0,91.0,15.0,22.0,14.0,17.0,79.0,36.0,18.0,37.0,25.0,40.0,50.0,18.0,33.0,38.0,62.0,57.0,26.0,44.0,23.0,30.0,20.0,18.0,39.0,34.0,28.0,24.0,41.0,73.0,83.0,73.0,47.0,29.0,113.0,18.0,36.0,43.0,64.0,26.0,31.0,55.0,129.0,39.0,60.0,30.0,18.0,22.0,63.0,19.0,29.0,148.0,45.0,46.0,186.0,47.0,23.0,21.0,22.0,61.0,102.0,136.0,21.0,83.0,100.0,29.0,41.0,19.0,40.0,19.0,44.0,25.0,25.0,70.0,42.0,34.0,43.0,37.0,28.0,27.0,19.0,38.0,20.0,33.0,60.0,24.0,57.0,23.0,55.0,28.0,31.0,54.0,35.0,77.0,101.0,113.0,23.0,29.0,43.0,24.0,18.0,20.0,34.0,20.0,101.0,40.0,36.0,48.0,42.0,33.0,14.0,30.0,16.0,53.0,39.0,20.0,33.0,68.0,18.0,16.0,253.0,27.0,20.0,66.0,27.0,21.0,32.0,77.0,44.0],\"type\":\"box\",\"xaxis\":\"x5\",\"yaxis\":\"y5\"},{\"name\":\"debtinc\",\"x\":[1,0,0,0,1,0,0,0,1,0,0,0,0,0,0,1,1,0,0,0,0,0,0,0,1,0,0,0,0,0,0,0,0,0,0,0,0,0,1,0,0,0,0,0,1,0,0,0,1,0,1,0,1,0,0,1,0,0,0,0,0,1,0,0,0,1,1,0,1,1,0,0,0,0,0,0,0,0,0,0,1,0,0,0,0,0,1,0,0,1,0,1,0,1,1,0,0,0,0,1,0,0,0,0,0,0,1,0,0,0,0,0,0,0,0,0,0,0,1,1,0,1,1,1,0,0,1,0,0,0,0,0,0,0,0,0,0,0,0,1,1,1,0,0,0,0,0,0,0,0,0,1,0,0,0,0,0,1,1,0,0,0,1,0,1,1,1,0,0,0,0,0,1,0,0,0,0,0,0,1,0,0,0,0,0,0,1,0,0,0,1,0,1,1,0,0,1,0,0,1,0,1,0,0,0,0,0,0,0,0,0,1,0,1,0,0,0,0,1,1,0,0,0,1,1,0,0,0,0,0,0,1,0,0,0,0,0,1,0,1,0,0,0,0,0,0,0,0,0,0,0,1,0,0,0,0,0,0,0,0,0,0,0,1,0,0,0,1,0,0,0,0,0,0,0,1,1,0,1,0,1,1,0,0,0,0,0,1,0,0,0,0,0,0,1,0,0,0,1,0,1,0,0,0,0,0,0,0,0,0,1,0,1,0,0,0,0,0,0,1,0,1,0,1,1,1,0,0,0,0,0,1,1,0,0,0,0,0,1,1,0,0,0,1,0,1,0,0,0,0,0,0,0,0,1,1,1,1,0,0,0,0,0,0,1,0,0,0,0,0,0,0,0,1,0,0,0,0,0,0,0,1,1,0,1,0,0,0,0,0,0,1,0,1,1,0,0,0,0,1,0,0,0,1,0,0,0,0,0,0,0,0,0,1,1,0,0,0,1,0,1,0,0,0,1,0,0,0,1,0,1,0,0,1,0,0,0,0,0,0,0,0,0,1,1,0,0,0,1,1,0,0,0,0,1,0,0,0,0,0,0,1,0,0,0,0,1,0,0,1,1,1,0,0,0,0,1,0,0,0,0,1,0,0,1,0,1,1,1,0,0,1,1,1,1,1,0,0,1,1,0,1,0,0,1,0,0,0,0,0,0,0,0,0,1,0,0,0,0,0,0,0,0,0,0,0,0,0,0,1,1,1,1,0,0,0,0,1,0,1,0,0,0,1,0,0,0,0,1,1,1,1,0,0,0,0,0,0,1,0,0,0,0,0,1,1,0,0,1,0,1,0,0,1,1,0,1,0,0,0,0,0,0,1,1,0,0,0,0,1,1,1,0,0,1,0,1,1,0,1,0,0,0,0,1,0,1,0,0,0,1,0,1,0,0,0,1,1,1,0,0,0,0,0,0,0,0,0,0,0,0,0,1,1,0,0,1,1,0,0,0,0,0,0,0,1,0,0,0,0,1,0,0,1,0,0,0,0,0,0,0,1,0,0,0,0,0,0,0,0,0,0,0,1,0,0,0,1,0,0,1,1,0,0,0,1,0,1,0,0,0,0,1,0,0,1,0,0,0,0],\"y\":[9.3,17.3,5.5,2.9,17.3,10.2,30.6,3.6,24.4,19.7,1.7,5.2,10.0,16.3,9.1,8.6,16.4,7.6,5.7,1.7,3.2,5.6,10.0,9.8,18.0,17.6,6.7,16.7,18.4,14.2,2.1,10.5,6.0,14.4,2.9,26.0,16.1,14.4,17.1,4.2,6.6,8.0,4.6,13.1,7.5,6.8,4.5,10.4,11.4,7.4,12.6,14.0,12.9,3.7,9.5,15.1,5.0,2.4,2.5,12.2,2.4,7.4,12.4,7.0,7.8,23.3,6.4,9.1,8.2,18.6,23.1,23.8,12.8,10.6,1.7,23.8,0.6,6.7,2.6,3.2,10.5,17.0,19.6,11.0,5.4,18.8,12.4,24.6,2.9,27.7,6.2,11.4,10.6,5.8,26.3,4.4,3.3,7.3,6.3,9.3,2.6,8.3,5.8,3.1,23.6,3.6,11.2,13.5,7.9,10.1,4.9,8.9,7.7,21.4,8.6,5.2,6.2,3.4,12.8,6.7,9.5,8.4,35.3,12.7,2.8,4.4,13.0,1.4,9.0,5.8,2.9,12.9,17.4,13.7,6.3,2.2,12.4,5.9,6.7,6.6,16.0,17.8,4.4,9.1,5.4,3.4,12.4,10.0,8.4,8.0,18.1,6.1,16.3,7.2,13.2,19.2,11.3,14.8,13.8,4.5,8.9,8.7,6.8,4.1,12.5,18.9,15.6,6.5,1.7,4.0,9.7,11.3,4.8,8.8,7.5,10.3,17.3,7.0,8.9,22.9,5.0,5.6,3.0,6.5,24.2,8.0,15.0,16.9,9.3,15.6,13.2,11.0,11.2,2.5,7.2,4.2,5.9,4.3,6.9,23.1,4.1,6.1,9.8,9.7,5.5,6.0,6.0,1.0,7.2,1.9,12.1,9.0,4.5,5.4,10.4,6.7,10.2,12.2,4.0,8.0,2.4,10.8,12.0,19.9,20.4,7.9,18.1,1.9,5.6,14.4,15.3,8.0,0.6,2.8,0.9,6.5,9.5,9.1,3.5,19.9,18.3,9.5,4.3,14.4,13.3,23.7,1.8,14.1,18.5,13.3,11.1,21.3,1.9,7.9,9.0,7.8,4.5,13.2,4.4,9.5,24.5,5.4,11.9,19.2,5.0,6.4,7.2,14.6,15.2,3.7,7.6,1.2,10.4,21.0,7.2,10.3,13.6,2.4,3.7,8.9,4.8,24.7,12.6,10.4,13.9,7.6,6.0,22.7,3.4,6.1,4.4,5.5,2.8,2.6,9.8,5.4,9.0,17.1,5.0,1.9,25.3,9.6,5.5,5.2,6.3,1.2,14.7,19.4,7.1,10.1,27.1,12.1,14.4,11.6,11.1,17.3,20.0,6.7,7.0,3.1,5.0,11.0,1.6,8.1,16.4,26.5,17.4,3.7,8.0,12.0,1.1,2.4,2.5,10.4,14.3,3.3,15.4,8.2,19.8,14.2,12.2,6.5,4.9,16.0,13.4,16.6,4.3,11.3,2.6,3.8,0.7,18.6,1.2,8.5,15.7,14.5,23.1,16.1,23.0,7.7,2.3,0.8,18.1,6.7,12.9,1.9,8.1,2.1,11.2,2.3,9.6,9.1,3.3,41.3,1.4,2.5,6.4,4.9,4.8,2.7,7.7,30.8,16.0,3.7,9.4,21.3,5.1,3.1,4.9,6.1,3.6,6.4,3.1,17.3,20.1,13.0,17.0,10.1,9.3,9.6,8.7,1.6,8.3,29.7,15.4,11.1,6.7,6.6,5.0,4.8,3.0,11.7,5.7,12.1,21.2,6.4,4.5,4.6,23.8,30.1,14.8,4.1,7.0,2.8,18.4,1.6,2.3,0.4,4.5,20.5,25.1,4.8,6.6,12.9,18.7,5.7,1.1,6.6,3.7,3.7,14.6,9.1,18.9,28.9,6.5,15.0,4.5,10.2,13.2,16.4,2.6,11.5,12.9,7.9,16.1,12.0,5.9,17.5,14.3,4.4,4.0,12.5,2.6,5.8,22.3,23.8,17.6,4.4,18.4,4.5,19.8,6.6,9.7,4.4,2.4,7.7,16.3,10.9,11.5,16.5,5.2,9.7,7.3,4.5,10.5,5.8,5.7,20.9,15.0,1.1,3.6,25.2,33.3,16.0,17.8,7.1,7.2,13.0,18.9,19.5,7.7,17.2,7.8,14.7,18.7,19.9,4.7,3.5,14.7,7.5,19.1,9.2,4.2,8.3,8.6,15.0,14.3,4.2,2.9,1.6,15.1,6.8,4.1,3.2,6.0,4.2,6.4,10.6,7.8,23.1,11.7,13.8,16.9,8.2,9.7,13.2,1.7,15.0,9.6,16.1,7.6,4.7,20.1,28.5,5.7,8.5,13.5,17.3,21.7,26.5,3.0,9.0,18.2,9.5,6.2,6.7,2.2,7.7,2.5,13.4,3.1,6.6,4.0,1.3,13.6,16.5,5.8,4.3,19.9,8.5,12.7,1.6,13.7,11.3,27.7,10.5,5.6,7.3,8.6,13.0,4.5,4.7,9.8,36.6,33.4,4.8,6.9,15.0,5.5,6.1,13.2,8.4,15.7,12.3,14.8,5.7,8.5,14.8,9.6,25.1,5.4,14.0,6.8,5.0,25.7,9.2,25.6,4.7,6.2,3.0,19.2,13.8,16.5,2.5,10.4,5.4,4.8,5.1,11.4,15.4,6.9,5.4,7.2,7.0,5.4,3.6,10.9,6.9,19.8,20.2,7.9,14.1,23.1,8.4,4.1,11.5,13.3,30.7,6.3,9.9,4.4,5.6,11.5,2.9,12.0,3.9,6.8,4.9,1.3,18.7,6.4,13.6,8.5,9.4,32.5,2.1,6.6,10.5,12.5,15.0,7.1,0.9,2.8,8.0,10.6,5.6,13.2,0.9,4.9,13.0,6.3,12.8,1.2,11.1,3.7,6.4,11.8,2.1,9.3,3.0,25.4,9.7,11.5,6.3,10.5,16.1,7.9,10.3,10.8,10.7,7.3,7.2,28.9,4.7,12.1,4.6,11.5,7.6,8.4,14.7],\"type\":\"box\",\"xaxis\":\"x6\",\"yaxis\":\"y6\"},{\"name\":\"creddebt\",\"x\":[1,0,0,0,1,0,0,0,1,0,0,0,0,0,0,1,1,0,0,0,0,0,0,0,1,0,0,0,0,0,0,0,0,0,0,0,0,0,1,0,0,0,0,0,1,0,0,0,1,0,1,0,1,0,0,1,0,0,0,0,0,1,0,0,0,1,1,0,1,1,0,0,0,0,0,0,0,0,0,0,1,0,0,0,0,0,1,0,0,1,0,1,0,1,1,0,0,0,0,1,0,0,0,0,0,0,1,0,0,0,0,0,0,0,0,0,0,0,1,1,0,1,1,1,0,0,1,0,0,0,0,0,0,0,0,0,0,0,0,1,1,1,0,0,0,0,0,0,0,0,0,1,0,0,0,0,0,1,1,0,0,0,1,0,1,1,1,0,0,0,0,0,1,0,0,0,0,0,0,1,0,0,0,0,0,0,1,0,0,0,1,0,1,1,0,0,1,0,0,1,0,1,0,0,0,0,0,0,0,0,0,1,0,1,0,0,0,0,1,1,0,0,0,1,1,0,0,0,0,0,0,1,0,0,0,0,0,1,0,1,0,0,0,0,0,0,0,0,0,0,0,1,0,0,0,0,0,0,0,0,0,0,0,1,0,0,0,1,0,0,0,0,0,0,0,1,1,0,1,0,1,1,0,0,0,0,0,1,0,0,0,0,0,0,1,0,0,0,1,0,1,0,0,0,0,0,0,0,0,0,1,0,1,0,0,0,0,0,0,1,0,1,0,1,1,1,0,0,0,0,0,1,1,0,0,0,0,0,1,1,0,0,0,1,0,1,0,0,0,0,0,0,0,0,1,1,1,1,0,0,0,0,0,0,1,0,0,0,0,0,0,0,0,1,0,0,0,0,0,0,0,1,1,0,1,0,0,0,0,0,0,1,0,1,1,0,0,0,0,1,0,0,0,1,0,0,0,0,0,0,0,0,0,1,1,0,0,0,1,0,1,0,0,0,1,0,0,0,1,0,1,0,0,1,0,0,0,0,0,0,0,0,0,1,1,0,0,0,1,1,0,0,0,0,1,0,0,0,0,0,0,1,0,0,0,0,1,0,0,1,1,1,0,0,0,0,1,0,0,0,0,1,0,0,1,0,1,1,1,0,0,1,1,1,1,1,0,0,1,1,0,1,0,0,1,0,0,0,0,0,0,0,0,0,1,0,0,0,0,0,0,0,0,0,0,0,0,0,0,1,1,1,1,0,0,0,0,1,0,1,0,0,0,1,0,0,0,0,1,1,1,1,0,0,0,0,0,0,1,0,0,0,0,0,1,1,0,0,1,0,1,0,0,1,1,0,1,0,0,0,0,0,0,1,1,0,0,0,0,1,1,1,0,0,1,0,1,1,0,1,0,0,0,0,1,0,1,0,0,0,1,0,1,0,0,0,1,1,1,0,0,0,0,0,0,0,0,0,0,0,0,0,1,1,0,0,1,1,0,0,0,0,0,0,0,1,0,0,0,0,1,0,0,1,0,0,0,0,0,0,0,1,0,0,0,0,0,0,0,0,0,0,0,1,0,0,0,1,0,0,1,1,0,0,0,1,0,1,0,0,0,0,1,0,0,1,0,0,0,0],\"y\":[11.359392,1.362202,0.856075,2.65872,1.787436,0.3927,3.833874,0.128592,1.358348,2.7777,0.182512,0.252356,3.9296,1.715901,3.7037,0.817516,2.918216,1.181952,0.563274,0.099008,1.154816,0.587552,0.4316,0.402192,0.24192,2.14016,0.707319,0.951232,3.084208,0.204906,0.105,1.13883,0.72228,1.018656,0.07714,6.0489,1.409716,3.195936,1.337904,0.5586,0.33759,1.80776,0.941114,1.930416,0.3024,0.150144,0.43155,0.12168,0.775656,0.205128,0.5733,0.8092,3.032016,0.311725,0.55328,1.801128,0.3978,1.061496,1.485,2.47904,0.047712,1.457652,0.86986,2.15985,1.024296,7.7589,0.186944,2.515786,1.492154,0.56916,1.401939,3.099236,4.5824,1.518556,0.07106,3.738504,0.025074,0.157182,0.199134,0.6864,2.47212,2.7387,2.69696,1.84382,0.3186,2.01348,3.490848,1.405398,0.116116,2.043706,0.052762,0.37107,1.499688,0.296496,1.960665,0.727056,1.315116,0.926224,0.681093,1.331946,0.987168,0.030212,0.776736,1.365364,9.8766,0.53424,2.016,1.29519,1.72062,1.11807,0.45864,0.266377,0.833448,2.411994,1.865856,0.552552,2.10769,1.032512,1.08864,0.47168,1.34273,0.2793,1.982448,1.092454,0.140448,0.694364,1.0166,0.127008,0.36675,1.506608,0.311634,0.984528,0.5481,2.44956,0.519939,0.452694,0.2852,0.964768,0.469536,1.15995,1.00864,2.85156,1.2771,0.14105,0.447984,0.35547,0.377208,1.77,0.681912,1.72128,1.550808,2.151104,1.327146,0.61344,1.6335,2.800512,2.104512,1.558144,1.348674,0.31005,1.420796,0.773256,0.28288,0.326196,0.591,6.226794,1.636128,1.17819,0.353056,1.73484,0.550572,0.291088,0.31488,3.751616,0.567,0.720588,0.158814,0.35938,0.602352,2.123975,0.5612,0.8778,0.912,0.85085,1.424654,0.96552,2.79285,4.63736,0.433008,4.404816,1.086096,0.74613,0.81536,0.2772,0.18144,0.500346,0.23895,0.376852,0.398889,3.341184,0.260965,0.284504,0.97461,0.32883,0.571725,2.56128,0.54288,0.1437,1.784592,0.085785,1.61414,1.96992,0.27945,0.581418,3.9546,1.300537,1.34946,3.23727,0.4476,1.6184,0.107136,0.849528,3.37644,3.17604,4.0392,0.302175,3.70326,0.884925,0.2072,0.849024,1.6065,0.5632,0.029412,0.103488,0.073872,0.5265,0.2261,0.118755,0.632625,2.540832,0.491904,2.056275,0.43344,9.60048,1.60132,2.05716,0.139698,1.17735,1.2136,4.874716,3.324672,2.71362,1.418445,0.369957,0.44982,2.253888,0.60588,1.142856,2.604976,0.573705,2.21235,2.156544,0.400554,0.801792,0.23275,0.630784,0.187488,3.109654,0.870656,0.91575,4.14048,0.08448,0.930176,0.69426,0.774288,0.37698,1.576512,0.273024,0.44659,1.897302,0.345408,4.373382,0.134316,0.5694,1.0703,0.6498,0.92736,1.208548,0.178704,0.709308,0.2618,0.49632,1.06848,0.099372,3.236548,0.932256,0.46971,2.04858,0.54945,0.54264,20.56131,0.62208,1.50579,0.108108,2.206575,0.06588,0.446292,1.559178,1.3064,1.0605,9.5934,4.593402,0.586656,1.02486,1.065489,0.520557,4.16,0.468464,0.39732,0.28396,0.3816,0.29205,0.4312,0.897966,1.58424,14.5962,2.771994,0.853664,0.15624,0.76176,0.029898,0.2592,0.4592,0.636272,5.001711,0.089199,2.6488,0.773916,5.574294,0.43736,1.98555,0.350025,0.421792,8.1664,4.521696,0.624492,0.358663,1.167968,0.14664,0.277704,0.085785,0.80631,0.036312,1.18575,6.565583,0.37352,1.915914,0.321195,2.68617,1.529528,0.068931,0.468384,1.109892,0.11256,1.583604,0.42864,0.729,0.367752,5.245296,0.826551,1.875168,0.641186,0.67716,15.01668,0.340774,0.13175,0.94976,0.608139,0.80352,0.31104,1.853775,6.1138,4.00384,0.27565,1.32916,1.403244,0.208692,0.476532,0.2254,0.864248,0.6327,0.270336,0.52514,6.935916,2.539836,0.17472,1.13764,2.457936,1.270752,0.804864,0.454923,0.441728,1.123986,3.89961,2.099636,1.662891,1.63212,0.278784,0.2376,0.184512,2.55816,1.256346,1.888125,1.5972,2.330092,0.333312,0.21708,0.05336,5.439966,3.17555,1.376844,0.258628,0.7644,0.549976,0.818432,0.024576,0.043792,0.159488,0.12375,6.94868,7.817144,0.834624,0.789888,1.038708,4.76476,0.8379,0.130416,3.326202,0.98235,0.694194,5.402,1.540266,3.132675,2.682498,16.03147,4.6728,0.326025,1.62945,3.042336,1.739056,1.63592,0.65021,2.560779,1.066026,2.693691,0.30396,0.887655,0.2254,1.851564,0.336072,0.27636,0.48825,0.121576,0.60204,2.66262,1.08528,15.791776,0.237864,1.98536,0.2907,1.00584,0.589512,0.357833,0.270072,0.407808,0.99484,0.35208,0.402864,0.82087,4.58403,0.545688,0.887744,0.778107,0.0702,3.61242,0.56985,0.319884,6.111369,1.9701,0.46794,0.228312,2.316132,2.28438,5.71536,1.01104,1.19493,2.935296,1.47576,0.513702,4.51386,0.47817,1.80256,3.15666,0.831726,0.885258,1.52235,0.397385,0.105,0.573888,0.7821,2.172816,1.497392,0.58485,0.728574,1.201248,0.54315,3.726723,0.030492,0.072384,0.241408,1.382858,0.7055,0.286672,1.46784,0.52812,0.14553,0.410688,0.666528,4.27284,1.88727,1.701063,1.97685,0.37856,0.15498,1.47246,3.741012,0.295137,1.806,1.641024,0.838488,1.473792,0.126336,2.856612,0.89376,0.343425,0.676175,1.194885,3.021618,0.1736,4.99101,0.2634,0.7812,5.549544,0.455715,0.966828,0.369974,0.125334,7.38738,0.199325,5.090526,0.030628,1.429824,0.6532,0.272636,6.91152,4.935645,0.894592,0.014835,2.707992,3.2946,1.419225,0.011696,0.573482,0.072885,5.283498,0.25578,0.569296,0.28835,0.383904,0.13104,0.834165,0.210325,1.97568,7.32,2.801592,0.693792,0.364458,2.4366,1.357455,0.537654,4.960032,0.372876,0.26376,0.1107,1.939392,0.217854,0.13294,2.594144,1.041408,5.896743,2.223288,6.58854,2.869192,0.4371,2.526567,2.380684,1.98144,0.624348,1.03974,0.65088,1.47264,1.617084,1.751475,0.551475,1.60212,1.05624,0.12096,0.44982,1.274064,4.637556,0.190095,0.443178,3.974688,0.5355,1.169964,2.403864,2.863757,0.409446,1.022868,2.261996,1.874591,5.781564,14.231448,1.210104,0.319882,5.06,2.148349,2.995706,0.124488,1.69488,0.241604,1.333024,2.331625,0.338575,4.3344,1.018836,0.298248,0.882833,0.179894,2.125816,0.594432,1.245488,0.17119,0.23312,1.26555,0.3213,0.441936,1.143135,0.140875,2.53275,0.184884,0.118017,0.402192,1.2656,5.501188,2.992024,3.192024,0.077418,0.264306,0.96148,0.55188,0.582912,0.04248,1.369962,0.32412,1.87456,0.44368,0.390852,0.419616,0.09324,1.165098,0.200984,0.3243,0.14112,0.840315,1.701609,0.8532,2.501664,1.365984,0.227268,0.024528,9.308376,2.754459,0.21902,2.31594,0.262062,0.369495,0.491264,2.302608,2.994684],\"type\":\"box\",\"xaxis\":\"x7\",\"yaxis\":\"y7\"},{\"name\":\"othdebt\",\"x\":[1,0,0,0,1,0,0,0,1,0,0,0,0,0,0,1,1,0,0,0,0,0,0,0,1,0,0,0,0,0,0,0,0,0,0,0,0,0,1,0,0,0,0,0,1,0,0,0,1,0,1,0,1,0,0,1,0,0,0,0,0,1,0,0,0,1,1,0,1,1,0,0,0,0,0,0,0,0,0,0,1,0,0,0,0,0,1,0,0,1,0,1,0,1,1,0,0,0,0,1,0,0,0,0,0,0,1,0,0,0,0,0,0,0,0,0,0,0,1,1,0,1,1,1,0,0,1,0,0,0,0,0,0,0,0,0,0,0,0,1,1,1,0,0,0,0,0,0,0,0,0,1,0,0,0,0,0,1,1,0,0,0,1,0,1,1,1,0,0,0,0,0,1,0,0,0,0,0,0,1,0,0,0,0,0,0,1,0,0,0,1,0,1,1,0,0,1,0,0,1,0,1,0,0,0,0,0,0,0,0,0,1,0,1,0,0,0,0,1,1,0,0,0,1,1,0,0,0,0,0,0,1,0,0,0,0,0,1,0,1,0,0,0,0,0,0,0,0,0,0,0,1,0,0,0,0,0,0,0,0,0,0,0,1,0,0,0,1,0,0,0,0,0,0,0,1,1,0,1,0,1,1,0,0,0,0,0,1,0,0,0,0,0,0,1,0,0,0,1,0,1,0,0,0,0,0,0,0,0,0,1,0,1,0,0,0,0,0,0,1,0,1,0,1,1,1,0,0,0,0,0,1,1,0,0,0,0,0,1,1,0,0,0,1,0,1,0,0,0,0,0,0,0,0,1,1,1,1,0,0,0,0,0,0,1,0,0,0,0,0,0,0,0,1,0,0,0,0,0,0,0,1,1,0,1,0,0,0,0,0,0,1,0,1,1,0,0,0,0,1,0,0,0,1,0,0,0,0,0,0,0,0,0,1,1,0,0,0,1,0,1,0,0,0,1,0,0,0,1,0,1,0,0,1,0,0,0,0,0,0,0,0,0,1,1,0,0,0,1,1,0,0,0,0,1,0,0,0,0,0,0,1,0,0,0,0,1,0,0,1,1,1,0,0,0,0,1,0,0,0,0,1,0,0,1,0,1,1,1,0,0,1,1,1,1,1,0,0,1,1,0,1,0,0,1,0,0,0,0,0,0,0,0,0,1,0,0,0,0,0,0,0,0,0,0,0,0,0,0,1,1,1,1,0,0,0,0,1,0,1,0,0,0,1,0,0,0,0,1,1,1,1,0,0,0,0,0,0,1,0,0,0,0,0,1,1,0,0,1,0,1,0,0,1,1,0,1,0,0,0,0,0,0,1,1,0,0,0,0,1,1,1,0,0,1,0,1,1,0,1,0,0,0,0,1,0,1,0,0,0,1,0,1,0,0,0,1,1,1,0,0,0,0,0,0,0,0,0,0,0,0,0,1,1,0,0,1,1,0,0,0,0,0,0,0,1,0,0,0,0,1,0,0,1,0,0,0,0,0,0,0,1,0,0,0,0,0,0,0,0,0,0,0,1,0,0,0,1,0,0,1,1,0,0,0,1,0,1,0,0,0,0,1,0,0,1,0,0,0,0],\"y\":[5.008608,4.000798,2.168925,0.82128,3.056564,2.1573,16.668126,1.239408,3.277652,2.1473,0.089488,0.943644,2.4704,3.011099,5.3963,3.396484,3.805784,4.290048,2.913726,0.342992,0.509184,1.820448,2.1684,2.243808,2.63808,3.49184,3.915681,9.736768,7.587792,5.049094,0.315,1.17117,0.83772,2.869344,0.93786,5.6511,2.132284,4.580064,2.766096,1.5414,1.70841,2.91224,0.944886,4.357584,0.7476,0.937856,1.14345,2.58232,1.618344,2.902872,2.5767,1.9908,3.675984,0.613275,2.10672,1.822872,1.3022,0.594504,1.015,7.28096,0.624288,1.650348,1.98214,1.69015,1.159704,9.7161,1.285056,1.670214,1.049846,3.15084,3.449061,4.992764,8.2176,1.237444,0.67694,8.399496,0.100926,0.981818,0.762866,0.5616,0.36288,4.9113,3.57504,1.34618,0.7614,6.44652,0.973152,5.728602,0.695884,2.665294,1.373238,1.33893,4.224312,0.747504,1.984335,1.648944,1.390884,2.869776,0.515907,1.551054,1.950832,2.127788,0.789264,2.385636,7.8234,0.47376,3.584,2.21481,3.01938,3.42693,1.45236,3.382623,1.014552,8.502006,3.638144,1.163448,1.92231,1.449488,2.36736,0.86832,2.17227,1.3167,7.548552,1.701546,0.475552,1.197636,7.8234,0.376992,1.88325,2.437392,0.471366,1.337472,5.5419,5.77044,0.803061,0.801306,2.5668,0.687232,1.138464,1.28205,1.55136,5.15844,4.6629,2.13395,3.224016,1.03853,2.846792,0.73,2.090088,1.79872,7.680192,2.484896,2.421854,1.54656,2.7225,4.687488,1.511488,2.585856,2.653326,0.85995,0.893204,3.054744,1.48512,0.739804,2.409,13.051206,2.107872,1.29181,0.394944,1.42516,1.583428,2.872912,0.64512,2.672384,1.008,1.545412,2.955186,2.02062,1.533648,5.891025,1.7388,2.3142,1.488,1.35915,5.593346,1.19448,3.65715,4.82664,1.054992,7.763184,1.817904,1.12387,2.32064,0.2478,2.69856,0.885654,0.82305,0.827148,2.844111,4.050816,0.518035,5.083496,3.43539,2.58117,2.893275,4.39872,1.01712,0.1563,4.047408,0.579215,12.42186,2.35008,1.07055,1.416582,3.8454,1.848463,2.22054,14.45273,0.7524,3.9816,0.468864,1.202472,10.18356,10.75396,8.2008,1.040825,4.26074,0.540075,0.9128,2.318976,7.5735,2.6368,0.198588,0.820512,0.169128,0.6435,2.4339,1.246245,1.992375,5.817168,3.351096,1.648725,0.94256,7.39152,3.05368,5.28984,0.562302,2.34765,6.1864,8.159284,12.659328,8.36238,0.576555,1.289043,1.44018,5.234112,1.37412,4.005144,1.003024,2.561295,5.13765,2.055456,1.741446,3.806208,1.51725,0.777216,1.324512,5.504346,1.561344,0.74925,4.97952,0.10752,1.773824,7.28574,1.961712,1.68302,1.687488,0.590976,0.18241,1.484698,0.998592,5.259618,5.031684,2.0306,2.4047,1.6302,0.99264,3.785452,1.045296,1.486692,1.2342,1.26368,3.38352,0.446628,1.565452,1.875744,1.06029,1.37142,0.80055,0.52136,12.07569,4.56192,2.94921,0.983892,2.518425,0.15012,6.021708,9.498822,0.4686,1.4645,6.6666,1.940598,1.429344,2.57114,2.153511,2.420443,6.24,1.072536,1.91268,0.95604,0.8184,4.65795,0.3528,0.965034,4.15576,17.2038,12.714006,0.330336,2.32376,1.99824,0.168102,0.9408,0.5658,3.315728,7.725289,1.659801,3.9732,2.424084,3.731706,3.53864,1.79645,0.624975,1.146208,27.0336,5.394304,2.529508,0.458337,2.448032,0.24336,1.090296,0.215215,2.35569,0.371688,4.08425,4.581417,7.74648,3.166086,2.093805,9.04383,0.472472,0.552069,0.187616,2.691108,1.89744,0.738396,0.46436,0.891,0.556248,2.258704,1.450449,3.020832,1.724814,0.80784,14.71932,1.073226,0.29325,1.61024,0.420861,2.07648,0.33696,1.611225,9.2862,3.35616,0.64935,5.25084,4.347756,0.913308,3.429468,0.9016,2.551752,2.7873,0.753664,0.83886,6.558084,7.912164,3.98528,3.62236,1.481064,1.333248,0.731136,1.372077,0.454272,1.947014,15.40539,3.136364,6.218109,1.04788,3.945216,1.1124,1.303488,1.40184,9.390654,1.132875,1.3068,3.817908,3.250688,0.86292,1.28064,8.126034,11.87445,1.731156,3.144372,0.9156,1.158024,5.069568,0.487424,0.347208,0.196512,1.00125,8.63132,9.250856,0.893376,3.434112,1.799292,5.70724,1.5561,0.045584,7.035798,0.68265,1.266806,9.198,2.281734,11.042325,3.386502,12.95853,4.1772,0.708975,0.92055,2.633664,1.868944,4.65608,1.87979,2.470221,2.014974,2.619309,1.73604,9.555345,2.2246,1.866436,0.499928,0.56364,2.13675,0.606424,1.13796,4.02738,2.72272,23.104224,1.258136,9.97464,0.6093,2.95416,1.324488,2.649167,0.521928,1.008192,4.85716,2.58192,1.995136,18.26913,4.98597,1.170312,1.634256,1.630893,1.0998,6.25758,0.88015,0.991116,5.801631,1.3299,0.19206,1.283688,20.615868,7.03962,4.36464,1.83696,1.14807,4.120704,9.70424,2.888298,2.50614,0.90783,5.07744,11.66334,2.549274,2.480742,4.44765,3.785615,0.595,1.778112,5.1429,2.411184,3.286608,0.46515,1.014426,2.926752,7.10685,6.712277,0.893508,0.855616,0.494592,4.355142,0.9945,0.492328,0.64416,0.55188,1.24047,4.005312,1.877472,15.14916,2.50173,1.925937,1.47315,3.00144,2.30502,1.43754,5.102988,0.163863,4.644,4.694976,1.415512,2.174208,1.377664,10.811388,3.66624,1.081575,2.468825,5.960115,18.257382,4.1664,17.79899,0.3366,2.3688,5.916456,3.439285,1.885172,1.104026,0.468666,10.63062,0.225675,3.351474,0.775372,0.682176,3.9468,0.364364,4.51248,4.799355,2.817408,0.630165,5.650008,6.3954,1.755775,0.260304,11.893518,1.622115,0.810502,1.21422,0.382704,5.47865,2.712096,2.20896,0.830835,0.964675,1.94432,10.98,3.210408,0.890208,2.257542,6.8634,1.777545,1.048346,0.847968,1.559124,4.44624,2.3493,0.724608,2.005146,2.75706,1.549856,1.262592,4.394257,1.718712,5.03146,2.094808,1.9129,4.926433,8.015316,2.62656,1.067652,1.62626,1.26912,3.51936,2.660916,7.323525,2.673525,2.45388,2.18376,1.31904,0.46818,1.233936,5.064444,1.120905,1.122822,6.681312,2.6145,1.314036,4.292136,2.259243,1.177554,3.135132,2.182004,2.944409,8.600436,17.184552,0.553896,3.083118,6.44,1.708651,9.591294,1.072512,2.26512,0.594396,1.130976,0.543375,0.386425,4.0656,0.619164,2.013752,1.224167,0.301106,3.110184,1.133568,1.338512,3.05881,1.64688,9.45945,0.9387,1.142064,4.841865,2.734125,5.71725,1.803116,0.160983,1.109808,1.5344,2.660812,2.663976,11.723976,0.129582,1.156694,4.62852,0.96012,1.721088,0.19752,2.404038,0.41588,4.58944,4.27632,0.365148,4.044384,1.16676,7.216902,1.157016,3.1257,0.86688,4.724685,4.577391,0.7268,0.897336,5.978016,1.698732,1.143472,8.907624,5.048541,0.72098,5.67006,0.979938,2.045505,1.940736,4.165392,3.473316],\"type\":\"box\",\"xaxis\":\"x8\",\"yaxis\":\"y8\"}],                        {\"template\":{\"data\":{\"histogram2dcontour\":[{\"type\":\"histogram2dcontour\",\"colorbar\":{\"outlinewidth\":0,\"ticks\":\"\"},\"colorscale\":[[0.0,\"#0d0887\"],[0.1111111111111111,\"#46039f\"],[0.2222222222222222,\"#7201a8\"],[0.3333333333333333,\"#9c179e\"],[0.4444444444444444,\"#bd3786\"],[0.5555555555555556,\"#d8576b\"],[0.6666666666666666,\"#ed7953\"],[0.7777777777777778,\"#fb9f3a\"],[0.8888888888888888,\"#fdca26\"],[1.0,\"#f0f921\"]]}],\"choropleth\":[{\"type\":\"choropleth\",\"colorbar\":{\"outlinewidth\":0,\"ticks\":\"\"}}],\"histogram2d\":[{\"type\":\"histogram2d\",\"colorbar\":{\"outlinewidth\":0,\"ticks\":\"\"},\"colorscale\":[[0.0,\"#0d0887\"],[0.1111111111111111,\"#46039f\"],[0.2222222222222222,\"#7201a8\"],[0.3333333333333333,\"#9c179e\"],[0.4444444444444444,\"#bd3786\"],[0.5555555555555556,\"#d8576b\"],[0.6666666666666666,\"#ed7953\"],[0.7777777777777778,\"#fb9f3a\"],[0.8888888888888888,\"#fdca26\"],[1.0,\"#f0f921\"]]}],\"heatmap\":[{\"type\":\"heatmap\",\"colorbar\":{\"outlinewidth\":0,\"ticks\":\"\"},\"colorscale\":[[0.0,\"#0d0887\"],[0.1111111111111111,\"#46039f\"],[0.2222222222222222,\"#7201a8\"],[0.3333333333333333,\"#9c179e\"],[0.4444444444444444,\"#bd3786\"],[0.5555555555555556,\"#d8576b\"],[0.6666666666666666,\"#ed7953\"],[0.7777777777777778,\"#fb9f3a\"],[0.8888888888888888,\"#fdca26\"],[1.0,\"#f0f921\"]]}],\"heatmapgl\":[{\"type\":\"heatmapgl\",\"colorbar\":{\"outlinewidth\":0,\"ticks\":\"\"},\"colorscale\":[[0.0,\"#0d0887\"],[0.1111111111111111,\"#46039f\"],[0.2222222222222222,\"#7201a8\"],[0.3333333333333333,\"#9c179e\"],[0.4444444444444444,\"#bd3786\"],[0.5555555555555556,\"#d8576b\"],[0.6666666666666666,\"#ed7953\"],[0.7777777777777778,\"#fb9f3a\"],[0.8888888888888888,\"#fdca26\"],[1.0,\"#f0f921\"]]}],\"contourcarpet\":[{\"type\":\"contourcarpet\",\"colorbar\":{\"outlinewidth\":0,\"ticks\":\"\"}}],\"contour\":[{\"type\":\"contour\",\"colorbar\":{\"outlinewidth\":0,\"ticks\":\"\"},\"colorscale\":[[0.0,\"#0d0887\"],[0.1111111111111111,\"#46039f\"],[0.2222222222222222,\"#7201a8\"],[0.3333333333333333,\"#9c179e\"],[0.4444444444444444,\"#bd3786\"],[0.5555555555555556,\"#d8576b\"],[0.6666666666666666,\"#ed7953\"],[0.7777777777777778,\"#fb9f3a\"],[0.8888888888888888,\"#fdca26\"],[1.0,\"#f0f921\"]]}],\"surface\":[{\"type\":\"surface\",\"colorbar\":{\"outlinewidth\":0,\"ticks\":\"\"},\"colorscale\":[[0.0,\"#0d0887\"],[0.1111111111111111,\"#46039f\"],[0.2222222222222222,\"#7201a8\"],[0.3333333333333333,\"#9c179e\"],[0.4444444444444444,\"#bd3786\"],[0.5555555555555556,\"#d8576b\"],[0.6666666666666666,\"#ed7953\"],[0.7777777777777778,\"#fb9f3a\"],[0.8888888888888888,\"#fdca26\"],[1.0,\"#f0f921\"]]}],\"mesh3d\":[{\"type\":\"mesh3d\",\"colorbar\":{\"outlinewidth\":0,\"ticks\":\"\"}}],\"scatter\":[{\"fillpattern\":{\"fillmode\":\"overlay\",\"size\":10,\"solidity\":0.2},\"type\":\"scatter\"}],\"parcoords\":[{\"type\":\"parcoords\",\"line\":{\"colorbar\":{\"outlinewidth\":0,\"ticks\":\"\"}}}],\"scatterpolargl\":[{\"type\":\"scatterpolargl\",\"marker\":{\"colorbar\":{\"outlinewidth\":0,\"ticks\":\"\"}}}],\"bar\":[{\"error_x\":{\"color\":\"#2a3f5f\"},\"error_y\":{\"color\":\"#2a3f5f\"},\"marker\":{\"line\":{\"color\":\"#E5ECF6\",\"width\":0.5},\"pattern\":{\"fillmode\":\"overlay\",\"size\":10,\"solidity\":0.2}},\"type\":\"bar\"}],\"scattergeo\":[{\"type\":\"scattergeo\",\"marker\":{\"colorbar\":{\"outlinewidth\":0,\"ticks\":\"\"}}}],\"scatterpolar\":[{\"type\":\"scatterpolar\",\"marker\":{\"colorbar\":{\"outlinewidth\":0,\"ticks\":\"\"}}}],\"histogram\":[{\"marker\":{\"pattern\":{\"fillmode\":\"overlay\",\"size\":10,\"solidity\":0.2}},\"type\":\"histogram\"}],\"scattergl\":[{\"type\":\"scattergl\",\"marker\":{\"colorbar\":{\"outlinewidth\":0,\"ticks\":\"\"}}}],\"scatter3d\":[{\"type\":\"scatter3d\",\"line\":{\"colorbar\":{\"outlinewidth\":0,\"ticks\":\"\"}},\"marker\":{\"colorbar\":{\"outlinewidth\":0,\"ticks\":\"\"}}}],\"scattermapbox\":[{\"type\":\"scattermapbox\",\"marker\":{\"colorbar\":{\"outlinewidth\":0,\"ticks\":\"\"}}}],\"scatterternary\":[{\"type\":\"scatterternary\",\"marker\":{\"colorbar\":{\"outlinewidth\":0,\"ticks\":\"\"}}}],\"scattercarpet\":[{\"type\":\"scattercarpet\",\"marker\":{\"colorbar\":{\"outlinewidth\":0,\"ticks\":\"\"}}}],\"carpet\":[{\"aaxis\":{\"endlinecolor\":\"#2a3f5f\",\"gridcolor\":\"white\",\"linecolor\":\"white\",\"minorgridcolor\":\"white\",\"startlinecolor\":\"#2a3f5f\"},\"baxis\":{\"endlinecolor\":\"#2a3f5f\",\"gridcolor\":\"white\",\"linecolor\":\"white\",\"minorgridcolor\":\"white\",\"startlinecolor\":\"#2a3f5f\"},\"type\":\"carpet\"}],\"table\":[{\"cells\":{\"fill\":{\"color\":\"#EBF0F8\"},\"line\":{\"color\":\"white\"}},\"header\":{\"fill\":{\"color\":\"#C8D4E3\"},\"line\":{\"color\":\"white\"}},\"type\":\"table\"}],\"barpolar\":[{\"marker\":{\"line\":{\"color\":\"#E5ECF6\",\"width\":0.5},\"pattern\":{\"fillmode\":\"overlay\",\"size\":10,\"solidity\":0.2}},\"type\":\"barpolar\"}],\"pie\":[{\"automargin\":true,\"type\":\"pie\"}]},\"layout\":{\"autotypenumbers\":\"strict\",\"colorway\":[\"#636efa\",\"#EF553B\",\"#00cc96\",\"#ab63fa\",\"#FFA15A\",\"#19d3f3\",\"#FF6692\",\"#B6E880\",\"#FF97FF\",\"#FECB52\"],\"font\":{\"color\":\"#2a3f5f\"},\"hovermode\":\"closest\",\"hoverlabel\":{\"align\":\"left\"},\"paper_bgcolor\":\"white\",\"plot_bgcolor\":\"#E5ECF6\",\"polar\":{\"bgcolor\":\"#E5ECF6\",\"angularaxis\":{\"gridcolor\":\"white\",\"linecolor\":\"white\",\"ticks\":\"\"},\"radialaxis\":{\"gridcolor\":\"white\",\"linecolor\":\"white\",\"ticks\":\"\"}},\"ternary\":{\"bgcolor\":\"#E5ECF6\",\"aaxis\":{\"gridcolor\":\"white\",\"linecolor\":\"white\",\"ticks\":\"\"},\"baxis\":{\"gridcolor\":\"white\",\"linecolor\":\"white\",\"ticks\":\"\"},\"caxis\":{\"gridcolor\":\"white\",\"linecolor\":\"white\",\"ticks\":\"\"}},\"coloraxis\":{\"colorbar\":{\"outlinewidth\":0,\"ticks\":\"\"}},\"colorscale\":{\"sequential\":[[0.0,\"#0d0887\"],[0.1111111111111111,\"#46039f\"],[0.2222222222222222,\"#7201a8\"],[0.3333333333333333,\"#9c179e\"],[0.4444444444444444,\"#bd3786\"],[0.5555555555555556,\"#d8576b\"],[0.6666666666666666,\"#ed7953\"],[0.7777777777777778,\"#fb9f3a\"],[0.8888888888888888,\"#fdca26\"],[1.0,\"#f0f921\"]],\"sequentialminus\":[[0.0,\"#0d0887\"],[0.1111111111111111,\"#46039f\"],[0.2222222222222222,\"#7201a8\"],[0.3333333333333333,\"#9c179e\"],[0.4444444444444444,\"#bd3786\"],[0.5555555555555556,\"#d8576b\"],[0.6666666666666666,\"#ed7953\"],[0.7777777777777778,\"#fb9f3a\"],[0.8888888888888888,\"#fdca26\"],[1.0,\"#f0f921\"]],\"diverging\":[[0,\"#8e0152\"],[0.1,\"#c51b7d\"],[0.2,\"#de77ae\"],[0.3,\"#f1b6da\"],[0.4,\"#fde0ef\"],[0.5,\"#f7f7f7\"],[0.6,\"#e6f5d0\"],[0.7,\"#b8e186\"],[0.8,\"#7fbc41\"],[0.9,\"#4d9221\"],[1,\"#276419\"]]},\"xaxis\":{\"gridcolor\":\"white\",\"linecolor\":\"white\",\"ticks\":\"\",\"title\":{\"standoff\":15},\"zerolinecolor\":\"white\",\"automargin\":true,\"zerolinewidth\":2},\"yaxis\":{\"gridcolor\":\"white\",\"linecolor\":\"white\",\"ticks\":\"\",\"title\":{\"standoff\":15},\"zerolinecolor\":\"white\",\"automargin\":true,\"zerolinewidth\":2},\"scene\":{\"xaxis\":{\"backgroundcolor\":\"#E5ECF6\",\"gridcolor\":\"white\",\"linecolor\":\"white\",\"showbackground\":true,\"ticks\":\"\",\"zerolinecolor\":\"white\",\"gridwidth\":2},\"yaxis\":{\"backgroundcolor\":\"#E5ECF6\",\"gridcolor\":\"white\",\"linecolor\":\"white\",\"showbackground\":true,\"ticks\":\"\",\"zerolinecolor\":\"white\",\"gridwidth\":2},\"zaxis\":{\"backgroundcolor\":\"#E5ECF6\",\"gridcolor\":\"white\",\"linecolor\":\"white\",\"showbackground\":true,\"ticks\":\"\",\"zerolinecolor\":\"white\",\"gridwidth\":2}},\"shapedefaults\":{\"line\":{\"color\":\"#2a3f5f\"}},\"annotationdefaults\":{\"arrowcolor\":\"#2a3f5f\",\"arrowhead\":0,\"arrowwidth\":1},\"geo\":{\"bgcolor\":\"white\",\"landcolor\":\"#E5ECF6\",\"subunitcolor\":\"white\",\"showland\":true,\"showlakes\":true,\"lakecolor\":\"white\"},\"title\":{\"x\":0.05},\"mapbox\":{\"style\":\"light\"}}},\"xaxis\":{\"anchor\":\"y\",\"domain\":[0.0,0.45],\"title\":{\"text\":\"Default\"}},\"yaxis\":{\"anchor\":\"x\",\"domain\":[0.80625,1.0],\"title\":{\"text\":\"age\"}},\"xaxis2\":{\"anchor\":\"y2\",\"domain\":[0.55,1.0],\"title\":{\"text\":\"Default\"}},\"yaxis2\":{\"anchor\":\"x2\",\"domain\":[0.80625,1.0],\"title\":{\"text\":\"ed\"}},\"xaxis3\":{\"anchor\":\"y3\",\"domain\":[0.0,0.45],\"title\":{\"text\":\"Default\"}},\"yaxis3\":{\"anchor\":\"x3\",\"domain\":[0.5375,0.73125],\"title\":{\"text\":\"employ\"}},\"xaxis4\":{\"anchor\":\"y4\",\"domain\":[0.55,1.0],\"title\":{\"text\":\"Default\"}},\"yaxis4\":{\"anchor\":\"x4\",\"domain\":[0.5375,0.73125],\"title\":{\"text\":\"address\"}},\"xaxis5\":{\"anchor\":\"y5\",\"domain\":[0.0,0.45],\"title\":{\"text\":\"Default\"}},\"yaxis5\":{\"anchor\":\"x5\",\"domain\":[0.26875,0.4625],\"title\":{\"text\":\"income\"}},\"xaxis6\":{\"anchor\":\"y6\",\"domain\":[0.55,1.0],\"title\":{\"text\":\"Default\"}},\"yaxis6\":{\"anchor\":\"x6\",\"domain\":[0.26875,0.4625],\"title\":{\"text\":\"debtinc\"}},\"xaxis7\":{\"anchor\":\"y7\",\"domain\":[0.0,0.45],\"title\":{\"text\":\"Default\"}},\"yaxis7\":{\"anchor\":\"x7\",\"domain\":[0.0,0.19375],\"title\":{\"text\":\"creddebt\"}},\"xaxis8\":{\"anchor\":\"y8\",\"domain\":[0.55,1.0],\"title\":{\"text\":\"Default\"}},\"yaxis8\":{\"anchor\":\"x8\",\"domain\":[0.0,0.19375],\"title\":{\"text\":\"othdebt\"}},\"width\":1400,\"height\":1000,\"title\":{\"text\":\"Boxplot - of All Features with respect to Default\"}},                        {\"responsive\": true}                    ).then(function(){\n",
              "                            \n",
              "var gd = document.getElementById('5cd1b3c6-6e47-4fd6-8cd2-bb44d7df7d2e');\n",
              "var x = new MutationObserver(function (mutations, observer) {{\n",
              "        var display = window.getComputedStyle(gd).display;\n",
              "        if (!display || display === 'none') {{\n",
              "            console.log([gd, 'removed!']);\n",
              "            Plotly.purge(gd);\n",
              "            observer.disconnect();\n",
              "        }}\n",
              "}});\n",
              "\n",
              "// Listen for the removal of the full notebook cells\n",
              "var notebookContainer = gd.closest('#notebook-container');\n",
              "if (notebookContainer) {{\n",
              "    x.observe(notebookContainer, {childList: true});\n",
              "}}\n",
              "\n",
              "// Listen for the clearing of the current output cell\n",
              "var outputEl = gd.closest('.output');\n",
              "if (outputEl) {{\n",
              "    x.observe(outputEl, {childList: true});\n",
              "}}\n",
              "\n",
              "                        })                };                            </script>        </div>\n",
              "</body>\n",
              "</html>"
            ]
          },
          "metadata": {}
        }
      ]
    },
    {
      "cell_type": "markdown",
      "source": [
        "# **Observations**\n",
        "\n",
        "* **Age - Lower age group people seems to be more defaulted than hifger age group peoples**\n",
        "\n",
        "* **Employ - the people who are employed very recently are defaulted more  compared to seniors**\n",
        "\n",
        "* **Income - The people who're getting 25 > & < 50 are more defaulted than the  others.**\n",
        "\n",
        "* **Creddebt - The people with higher creddebt are more defaulted than the others which is normal.**\n",
        "\n",
        "* **Debtinc - The People with higher debtinc tends to default more which is normal.**\n",
        "\n",
        "* **Address - The people who are living at the same location for less duration tends to default more.**"
      ],
      "metadata": {
        "id": "l75MkwI6vB9z"
      }
    },
    {
      "cell_type": "markdown",
      "source": [
        "# **Splitting the data**\n",
        "\n",
        "**To build the model with training data and to test the model performance with testing data**\n",
        "---"
      ],
      "metadata": {
        "id": "Ft19177uvabi"
      }
    },
    {
      "cell_type": "code",
      "source": [
        "# For Splitting from Sci-Kit\n",
        "\n",
        "from sklearn.model_selection import train_test_split"
      ],
      "metadata": {
        "id": "D6dyoCEsvd5K"
      },
      "execution_count": null,
      "outputs": []
    },
    {
      "cell_type": "code",
      "source": [
        "# splitting the data into train and test using  train_test_split function\n",
        "\n",
        "x = df.drop('default', axis =1)\n",
        "\n",
        "y = df['default']\n",
        "\n",
        "x_train, x_test, y_train, y_test = train_test_split(x, y, test_size = 0.2, random_state = 20)\n",
        "\n",
        "print(\"Shape of x_train - {} x_test {}\".format(x_train.shape, x_test.shape))"
      ],
      "metadata": {
        "colab": {
          "base_uri": "https://localhost:8080/"
        },
        "collapsed": true,
        "id": "4nKilISnvZiq",
        "outputId": "a82ec690-5a77-44d0-f850-9156d3228347"
      },
      "execution_count": null,
      "outputs": [
        {
          "output_type": "stream",
          "name": "stdout",
          "text": [
            "Shape of x_train - (560, 8) x_test (140, 8)\n"
          ]
        }
      ]
    },
    {
      "cell_type": "markdown",
      "source": [
        "# **Building Models**\n",
        "\n",
        "---"
      ],
      "metadata": {
        "id": "yVQ9VebdvRQD"
      }
    },
    {
      "cell_type": "code",
      "source": [
        "# To store the values of accuracy, f1, precision, recall from all the models\n",
        "\n",
        "acc, prec, recal, f1score, auc_score_all = [], [], [], [], []"
      ],
      "metadata": {
        "id": "TaRWwqil8mXY"
      },
      "execution_count": null,
      "outputs": []
    },
    {
      "cell_type": "markdown",
      "source": [
        "# **Logistic Regression**"
      ],
      "metadata": {
        "id": "0qBIOn_Yv3f3"
      }
    },
    {
      "cell_type": "code",
      "source": [
        "# Importing LogisticRegression libraries from scikit\n",
        "\n",
        "from sklearn.linear_model import LogisticRegression"
      ],
      "metadata": {
        "id": "cVf0t_mqvjL7"
      },
      "execution_count": null,
      "outputs": []
    },
    {
      "cell_type": "code",
      "source": [
        "def logistic_regression(x_train, x_test, y_train, y_test):\n",
        "    \n",
        "    model_l = LogisticRegression()                                              # Building the model\n",
        "    model_l.fit(x_train, y_train)                                               # Training the model\n",
        "    pred_l = model_l.predict(x_test)                                            # Prediction\n",
        "    train_score = model_l.score(x_train, y_train).round(2)                      # Model evaluation - accuracy, recall, precision, f1 score\n",
        "    test_score = model_l.score(x_test, y_test).round(2)\n",
        "    accuracy = accuracy_score(y_test, pred_l).round(2)\n",
        "    recall = recall_score(y_test, pred_l).round(2)\n",
        "    precision = precision_score(y_test, pred_l).round(2)\n",
        "    f1 = f1_score(y_test, pred_l).round(2)\n",
        "    cr = classification_report(y_test, pred_l)                                  # Classification report\n",
        "    cm = confusion_matrix(y_test, pred_l)                                       # Confusion matrix\n",
        "    auc_score_l = roc_auc_score(y_test, pred_l)                                 # AUC score\n",
        "    probs_l = model_l.predict_proba(x_test)     \n",
        "    fpr_l, tpr_l, thresholds_l = roc_curve(y_test, probs_l[:,1])   \n",
        "    roc_auc_l = auc(fpr_l, tpr_l)                       \n",
        "    return train_score, test_score, accuracy, recall, precision, f1, cr, cm, auc_score_l, fpr_l, tpr_l, roc_auc_l, pred_l, model_l"
      ],
      "metadata": {
        "id": "D0bhfdHxRutx"
      },
      "execution_count": null,
      "outputs": []
    },
    {
      "cell_type": "code",
      "source": [
        "# Performing Logistic Regression\n",
        "\n",
        "train_score, test_score, accuracy, recall, precision, f1, cr, cm, auc_score_l, fpr_l, tpr_l, roc_auc_l, pred_l, model_l = logistic_regression(x_train, x_test, y_train, y_test)\n",
        "\n",
        "print('Training_Score  = ',train_score)\n",
        "print(\"Testing_score   = \",test_score)\n",
        "print(\"Accuracy_Score  = \",accuracy)\n",
        "print(\"Recall_Score    = \",recall)\n",
        "print(\"Precision_Score = \",precision)\n",
        "print(\"F1_Score        = \",f1)\n",
        "print(\"Classification report\\n\",cr)\n",
        "\n",
        "# Roc curve and auc score\n",
        "\n",
        "plt.figure(figsize = (19, 4))\n",
        "plt.subplot(1,2,1)\n",
        "plt.plot(fpr_l, tpr_l, label = 'ROC curve (area = %0.2f)' % roc_auc_l)\n",
        "plt.plot([0, 1], [0, 1], 'k--')\n",
        "plt.xlim([0.0, 1.0])\n",
        "plt.ylim([0.0, 1.05])\n",
        "plt.xlabel('False Positive Rate')\n",
        "plt.ylabel('True Positive Rate')\n",
        "plt.title('Receiver operating characteristic curve')\n",
        "plt.legend(loc = \"lower right\")\n",
        "\n",
        "# Confusion matrix\n",
        "\n",
        "plt.subplot(1,2,2)\n",
        "sb.heatmap(cm, annot = True)\n",
        "plt.title('Confusion Matrix')\n",
        "plt.ylabel('Predicted')\n",
        "plt.xlabel('Actual')\n",
        "plt.show()"
      ],
      "metadata": {
        "colab": {
          "base_uri": "https://localhost:8080/",
          "height": 702
        },
        "collapsed": true,
        "id": "EPY-ao2MS0jT",
        "outputId": "8044c955-6c35-4ed6-c803-b7f3414424be"
      },
      "execution_count": null,
      "outputs": [
        {
          "output_type": "stream",
          "name": "stdout",
          "text": [
            "Training_Score  =  0.82\n",
            "Testing_score   =  0.76\n",
            "Accuracy_Score  =  0.76\n",
            "Recall_Score    =  0.44\n",
            "Precision_Score =  0.71\n",
            "F1_Score        =  0.55\n",
            "Classification report\n",
            "               precision    recall  f1-score   support\n",
            "\n",
            "           0       0.78      0.92      0.84        95\n",
            "           1       0.71      0.44      0.55        45\n",
            "\n",
            "    accuracy                           0.76       140\n",
            "   macro avg       0.75      0.68      0.69       140\n",
            "weighted avg       0.76      0.76      0.75       140\n",
            "\n"
          ]
        },
        {
          "output_type": "display_data",
          "data": {
            "text/plain": [
              "<Figure size 1900x400 with 3 Axes>"
            ],
            "image/png": "[encoded data removed]"
          },
          "metadata": {}
        }
      ]
    },
    {
      "cell_type": "markdown",
      "source": [
        "# **Observations**\n",
        "\n",
        "* **The training score > Testing score - model seems to be normal**\n",
        "\n",
        "* **The accuracy of the model is 74% and Auc is also 63%**\n",
        "\n",
        "* **The classification score for class 1 is not good as class 0, it is because of the data imbalance, we see in data understanding**\n",
        "\n",
        "* **From the confusion matrix it is clear that the model was not good at predicting class 1 because the false prediction of class 1 is 3X more than class 0**\n",
        "\n",
        "* **Although, the model is good in predicting class 0**\n",
        "\n",
        "\n"
      ],
      "metadata": {
        "id": "m2_f9kIXyBqk"
      }
    },
    {
      "cell_type": "code",
      "source": [
        "# adding values to the list\n",
        "\n",
        "acc.append(accuracy)\n",
        "prec.append(precision)\n",
        "recal.append(recall)\n",
        "f1score.append(f1)\n",
        "auc_score_all.append(auc_score_l)"
      ],
      "metadata": {
        "id": "_izpqIvycK0s"
      },
      "execution_count": null,
      "outputs": []
    },
    {
      "cell_type": "markdown",
      "source": [
        "---\n",
        "\n",
        "# **NaiveBayes**"
      ],
      "metadata": {
        "id": "ToGSryuH0gcu"
      }
    },
    {
      "cell_type": "code",
      "source": [
        "# Importing naive_bayes from scikit\n",
        "\n",
        "from sklearn.naive_bayes import GaussianNB"
      ],
      "metadata": {
        "id": "YsR8Yhs5x0zm"
      },
      "execution_count": null,
      "outputs": []
    },
    {
      "cell_type": "code",
      "source": [
        "def Naivebayes(x_train, x_test, y_train, y_test):\n",
        "    \n",
        "    model_nb = GaussianNB()                                                     # Building the model\n",
        "    model_nb.fit(x_train, y_train)                                              # Training the model\n",
        "    pred_nb = model_nb.predict(x_test)                                          # Prediction\n",
        "    train_score = model_nb.score(x_train, y_train).round(2)                     # Model evaluation - accuracy, recall, precision, f1 score\n",
        "    test_score = model_nb.score(x_test, y_test).round(2)\n",
        "    accuracy = accuracy_score(y_test, pred_nb).round(2)\n",
        "    recall = recall_score(y_test, pred_nb).round(2)\n",
        "    precision = precision_score(y_test, pred_nb).round(2)\n",
        "    f1 = f1_score(y_test, pred_nb).round(2)\n",
        "    cr = classification_report(y_test, pred_nb)                                 # Classification report\n",
        "    cm = confusion_matrix(y_test, pred_nb)                                      # Confusion matrix\n",
        "    auc_score_l= roc_auc_score(y_test, pred_nb)                                 # AUC score\n",
        "    probs_l = model_nb.predict_proba(x_test)     \n",
        "    fpr_l, tpr_l, thresholds_l = roc_curve(y_test, probs_l[:,1])   \n",
        "    roc_auc_l = auc(fpr_l, tpr_l)                       \n",
        "    return train_score, test_score, accuracy, recall, precision, f1, cr, cm, auc_score_l, fpr_l, tpr_l, roc_auc_l, pred_nb, model_nb"
      ],
      "metadata": {
        "id": "kRwt63uNWI-a"
      },
      "execution_count": null,
      "outputs": []
    },
    {
      "cell_type": "code",
      "source": [
        "# Performing Naive Bayes\n",
        "\n",
        "train_score_nb, test_score_nb, accuracy_nb, recall_nb, precision_nb, f1_nb, cr_nb, cm_nb, auc_score_nb, fpr_nb, tpr_nb, roc_auc_nb, pred_nb, model_nb = Naivebayes(x_train, x_test, y_train, y_test)\n",
        "\n",
        "print('Training_Score  = ',train_score_nb)\n",
        "print(\"Testing_score   = \",test_score_nb)\n",
        "print(\"Accuracy_Score  = \",accuracy_nb)\n",
        "print(\"Recall_Score    = \",recall_nb)\n",
        "print(\"Precision_Score = \",precision_nb)\n",
        "print(\"F1_Score        = \",f1_nb)\n",
        "print(\"Classification report\\n\",cr_nb)\n",
        "\n",
        "# Roc curve and auc score\n",
        "\n",
        "plt.figure(figsize = (19, 4))\n",
        "plt.subplot(1,2,1)\n",
        "plt.plot(fpr_nb, tpr_nb, label = 'ROC curve (area = %0.2f)' % roc_auc_nb)\n",
        "plt.plot([0, 1], [0, 1], 'k--')\n",
        "plt.xlim([0.0, 1.0])\n",
        "plt.ylim([0.0, 1.05])\n",
        "plt.xlabel('False Positive Rate')\n",
        "plt.ylabel('True Positive Rate')\n",
        "plt.title('Receiver operating characteristic curve')\n",
        "plt.legend(loc = \"lower right\")\n",
        "\n",
        "# Confusion matrix\n",
        "\n",
        "plt.subplot(1,2,2)\n",
        "sb.heatmap(cm_nb, annot = True)\n",
        "plt.title('Confusion Matrix')\n",
        "plt.ylabel('Predicted')\n",
        "plt.xlabel('Actual')\n",
        "plt.show()"
      ],
      "metadata": {
        "colab": {
          "base_uri": "https://localhost:8080/",
          "height": 702
        },
        "collapsed": true,
        "id": "72ji33T4XPs1",
        "outputId": "66dddfa5-7baf-4ad8-b0c6-e01f3adab0f7"
      },
      "execution_count": null,
      "outputs": [
        {
          "output_type": "stream",
          "name": "stdout",
          "text": [
            "Training_Score  =  0.77\n",
            "Testing_score   =  0.69\n",
            "Accuracy_Score  =  0.69\n",
            "Recall_Score    =  0.24\n",
            "Precision_Score =  0.55\n",
            "F1_Score        =  0.34\n",
            "Classification report\n",
            "               precision    recall  f1-score   support\n",
            "\n",
            "           0       0.72      0.91      0.80        95\n",
            "           1       0.55      0.24      0.34        45\n",
            "\n",
            "    accuracy                           0.69       140\n",
            "   macro avg       0.63      0.57      0.57       140\n",
            "weighted avg       0.66      0.69      0.65       140\n",
            "\n"
          ]
        },
        {
          "output_type": "display_data",
          "data": {
            "text/plain": [
              "<Figure size 1900x400 with 3 Axes>"
            ],
            "image/png": "[encoded data removed]"
          },
          "metadata": {}
        }
      ]
    },
    {
      "cell_type": "markdown",
      "source": [
        "# **Observations**\n",
        "\n",
        "* **The training score > Testing score - model seems to be normal**\n",
        "\n",
        "* **The accuracy of the model is 69% and Auc is 57 < Logistic%**\n",
        "\n",
        "* **The classification score for class 1 is not good as class 0 for naive baiyes also.**\n",
        "\n",
        "* **From the confusion matrix it is clear that the model was performing low at predicting class 1 because the false prediction of class 1 is 3X more than class 0 which is more than logistic**\n",
        "\n",
        "* **Although, this model is good in predicting binary classfication, in this case the due to imbalance the model is not performing to its potential**"
      ],
      "metadata": {
        "id": "O_0EADE23RP4"
      }
    },
    {
      "cell_type": "code",
      "source": [
        "# adding values to the list\n",
        "\n",
        "acc.append(accuracy_nb)\n",
        "prec.append(precision_nb)\n",
        "recal.append(recall_nb)\n",
        "f1score.append(f1_nb)\n",
        "auc_score_all.append(auc_score_nb)"
      ],
      "metadata": {
        "id": "CaK5uC32-ZoN"
      },
      "execution_count": null,
      "outputs": []
    },
    {
      "cell_type": "markdown",
      "source": [
        "---\n",
        "\n",
        "# **DecisionTreeClassifier**"
      ],
      "metadata": {
        "id": "MBYEWRMQ4M7M"
      }
    },
    {
      "cell_type": "code",
      "source": [
        "# Importing DecisionTreeClassifier from scikit\n",
        "\n",
        "from sklearn.tree import DecisionTreeClassifier"
      ],
      "metadata": {
        "id": "D2pf5KR83Q3m"
      },
      "execution_count": null,
      "outputs": []
    },
    {
      "cell_type": "code",
      "source": [
        "def DecisionTreeClass(x_train, x_test, y_train, y_test):\n",
        "    \n",
        "    model_dt = DecisionTreeClassifier()                                         # Building the model\n",
        "    model_dt.fit(x_train, y_train)                                              # Training the model\n",
        "    pred_dt = model_nb.predict(x_test)                                          # Prediction\n",
        "    train_score = model_dt.score(x_train, y_train).round(2)                     # Model evaluation - accuracy, recall, precision, f1 score\n",
        "    test_score = model_dt.score(x_test, y_test).round(2)\n",
        "    accuracy = accuracy_score(y_test, pred_dt).round(2)\n",
        "    recall = recall_score(y_test, pred_dt).round(2)\n",
        "    precision = precision_score(y_test, pred_dt).round(2)\n",
        "    f1 = f1_score(y_test, pred_dt).round(2)\n",
        "    cr = classification_report(y_test, pred_dt)                                 # Classification report\n",
        "    cm = confusion_matrix(y_test, pred_dt)                                      # Confusion matrix\n",
        "    auc_score_l= roc_auc_score(y_test, pred_dt)                                 # AUC score\n",
        "    probs_l = model_dt.predict_proba(x_test)     \n",
        "    fpr_l, tpr_l, thresholds_l = roc_curve(y_test, probs_l[:,1])   \n",
        "    roc_auc_l = auc(fpr_l, tpr_l)                       \n",
        "    return train_score, test_score, accuracy, recall, precision, f1, cr, cm, auc_score_l, fpr_l, tpr_l, roc_auc_l, pred_dt, model_dt"
      ],
      "metadata": {
        "id": "9JmeWx5qYvRb"
      },
      "execution_count": null,
      "outputs": []
    },
    {
      "cell_type": "code",
      "source": [
        "# Performing DecisionTreeClassifier\n",
        "\n",
        "train_score_dt, test_score_dt, accuracy_dt, recall_dt, precision_dt, f1_dt, cr_dt, cm_dt, auc_score_dt, fpr_dt, tpr_dt, roc_auc_dt, pred_dt, model_dt = DecisionTreeClass(x_train, x_test, y_train, y_test)\n",
        "\n",
        "print('Training_Score  = ',train_score_dt)\n",
        "print(\"Testing_score   = \",test_score_dt)\n",
        "print(\"Accuracy_Score  = \",accuracy_dt)\n",
        "print(\"Recall_Score    = \",recall_dt)\n",
        "print(\"Precision_Score = \",precision_dt)\n",
        "print(\"F1_Score        = \",f1_dt)\n",
        "print(\"Classification report\\n\",cr_dt)\n",
        "\n",
        "# Roc curve and auc score\n",
        "\n",
        "plt.figure(figsize = (19, 4))\n",
        "plt.subplot(1,2,1)\n",
        "plt.plot(fpr_dt, tpr_dt, label = 'ROC curve (area = %0.2f)' % roc_auc_dt)\n",
        "plt.plot([0, 1], [0, 1], 'k--')\n",
        "plt.xlim([0.0, 1.0])\n",
        "plt.ylim([0.0, 1.05])\n",
        "plt.xlabel('False Positive Rate')\n",
        "plt.ylabel('True Positive Rate')\n",
        "plt.title('Receiver operating characteristic curve')\n",
        "plt.legend(loc = \"lower right\")\n",
        "\n",
        "plt.subplot(1,2,2)\n",
        "sb.heatmap(cm_dt, annot = True)\n",
        "plt.title('Confusion Matrix')\n",
        "plt.ylabel('Predicted')\n",
        "plt.xlabel('Actual')\n",
        "plt.show()"
      ],
      "metadata": {
        "colab": {
          "base_uri": "https://localhost:8080/",
          "height": 702
        },
        "collapsed": true,
        "id": "UR1Wov7OZRHj",
        "outputId": "6608e4af-aca9-4e46-98b3-240af6e5841f"
      },
      "execution_count": null,
      "outputs": [
        {
          "output_type": "stream",
          "name": "stdout",
          "text": [
            "Training_Score  =  1.0\n",
            "Testing_score   =  0.66\n",
            "Accuracy_Score  =  0.69\n",
            "Recall_Score    =  0.24\n",
            "Precision_Score =  0.55\n",
            "F1_Score        =  0.34\n",
            "Classification report\n",
            "               precision    recall  f1-score   support\n",
            "\n",
            "           0       0.72      0.91      0.80        95\n",
            "           1       0.55      0.24      0.34        45\n",
            "\n",
            "    accuracy                           0.69       140\n",
            "   macro avg       0.63      0.57      0.57       140\n",
            "weighted avg       0.66      0.69      0.65       140\n",
            "\n"
          ]
        },
        {
          "output_type": "display_data",
          "data": {
            "text/plain": [
              "<Figure size 1900x400 with 3 Axes>"
            ],
            "image/png": "[encoded data removed]"
          },
          "metadata": {}
        }
      ]
    },
    {
      "cell_type": "markdown",
      "source": [
        "# **Observations**\n",
        "\n",
        "* **The training score > Testing score - model seems to be overfitted**\n",
        "\n",
        "* **The accuracy of the model is 69% < both naivebayes and logistic and Auc is 60 > naive bayes and < Logistic%**\n",
        "\n",
        "* **The classification score for class 1 is not good as class 0 for Decision tree also.**\n",
        "\n",
        "* **From the confusion matrix it is clear that the model was performing low at predicting class 1 because the false prediction of class 1 is 3X more than class 0 **\n",
        "\n",
        "* **But predicting false true is less than logistic and naive bayes**"
      ],
      "metadata": {
        "id": "o7nV9-vY5IFo"
      }
    },
    {
      "cell_type": "code",
      "source": [
        "# adding values to the list\n",
        "\n",
        "acc.append(accuracy_dt)\n",
        "prec.append(precision_dt)\n",
        "recal.append(recall_dt)\n",
        "f1score.append(f1_dt)\n",
        "auc_score_all.append(auc_score_dt)"
      ],
      "metadata": {
        "id": "CUS-WgdL-kE1"
      },
      "execution_count": null,
      "outputs": []
    },
    {
      "cell_type": "markdown",
      "source": [
        "# **Creating a datframe with all claculated values**"
      ],
      "metadata": {
        "id": "Y3bsOcC4-thq"
      }
    },
    {
      "cell_type": "code",
      "source": [
        "# Create dataframe\n",
        "results_df = pd.DataFrame({\n",
        "    'Model': ['LOgistic_Regression', 'Naive Basyes', 'Decision tree'],\n",
        "    'F1 Score': f1score,\n",
        "    'Accuracy': acc,\n",
        "    'AUC Score': auc_score_all,\n",
        "    'Precision' : prec,\n",
        "    'Recall' : recal})\n",
        "\n",
        "# PLOTTING ALL THE VALUES OBTAINED BY USING THE DIFFERENT MODELS\n",
        "\n",
        "fig = go.Figure(data = [\n",
        "    go.Bar(name = 'F1 Score', x = results_df['Model'], y = results_df['F1 Score']),\n",
        "    go.Bar(name = 'Accuracy', x = results_df['Model'], y = results_df['Accuracy']),\n",
        "    go.Bar(name = 'AUC Score', x = results_df['Model'], y = results_df['AUC Score']),\n",
        "    go.Bar(name = 'Precision', x = results_df['Model'], y = results_df['Precision']),\n",
        "    go.Bar(name = 'Recall', x = results_df['Model'], y = results_df['Recall'])])\n",
        "\n",
        "fig.update_layout(\n",
        "    title = 'Model Performance Metrics',\n",
        "    xaxis_title = 'Model',\n",
        "    yaxis_title = 'Score',\n",
        "    barmode = 'group',\n",
        "    plot_bgcolor = 'rgba(240,240,240,0.7)',\n",
        "    paper_bgcolor = 'pink')\n",
        "\n",
        "fig.show()"
      ],
      "metadata": {
        "colab": {
          "base_uri": "https://localhost:8080/",
          "height": 542
        },
        "collapsed": true,
        "id": "H46Bkl8A_-cV",
        "outputId": "ae4e5a8d-02fc-4b7b-95ca-1aa67a98cc26"
      },
      "execution_count": null,
      "outputs": [
        {
          "output_type": "display_data",
          "data": {
            "text/html": [
              "<html>\n",
              "<head><meta charset=\"utf-8\" /></head>\n",
              "<body>\n",
              "    <div>            <script src=\"https://cdnjs.cloudflare.com/ajax/libs/mathjax/2.7.5/MathJax.js?config=TeX-AMS-MML_SVG\"></script><script type=\"text/javascript\">if (window.MathJax && window.MathJax.Hub && window.MathJax.Hub.Config) {window.MathJax.Hub.Config({SVG: {font: \"STIX-Web\"}});}</script>                <script type=\"text/javascript\">window.PlotlyConfig = {MathJaxConfig: 'local'};</script>\n",
              "        <script src=\"https://cdn.plot.ly/plotly-2.18.2.min.js\"></script>                <div id=\"66342970-fb45-4a0f-8923-33abf05cfbb2\" class=\"plotly-graph-div\" style=\"height:525px; width:100%;\"></div>            <script type=\"text/javascript\">                                    window.PLOTLYENV=window.PLOTLYENV || {};                                    if (document.getElementById(\"66342970-fb45-4a0f-8923-33abf05cfbb2\")) {                    Plotly.newPlot(                        \"66342970-fb45-4a0f-8923-33abf05cfbb2\",                        [{\"name\":\"F1 Score\",\"x\":[\"LOgistic_Regression\",\"Naive Basyes\",\"Decision tree\"],\"y\":[0.55,0.34,0.34],\"type\":\"bar\"},{\"name\":\"Accuracy\",\"x\":[\"LOgistic_Regression\",\"Naive Basyes\",\"Decision tree\"],\"y\":[0.76,0.69,0.69],\"type\":\"bar\"},{\"name\":\"AUC Score\",\"x\":[\"LOgistic_Regression\",\"Naive Basyes\",\"Decision tree\"],\"y\":[0.6801169590643275,0.5748538011695906,0.5748538011695906],\"type\":\"bar\"},{\"name\":\"Precision\",\"x\":[\"LOgistic_Regression\",\"Naive Basyes\",\"Decision tree\"],\"y\":[0.71,0.55,0.55],\"type\":\"bar\"},{\"name\":\"Recall\",\"x\":[\"LOgistic_Regression\",\"Naive Basyes\",\"Decision tree\"],\"y\":[0.44,0.24,0.24],\"type\":\"bar\"}],                        {\"template\":{\"data\":{\"histogram2dcontour\":[{\"type\":\"histogram2dcontour\",\"colorbar\":{\"outlinewidth\":0,\"ticks\":\"\"},\"colorscale\":[[0.0,\"#0d0887\"],[0.1111111111111111,\"#46039f\"],[0.2222222222222222,\"#7201a8\"],[0.3333333333333333,\"#9c179e\"],[0.4444444444444444,\"#bd3786\"],[0.5555555555555556,\"#d8576b\"],[0.6666666666666666,\"#ed7953\"],[0.7777777777777778,\"#fb9f3a\"],[0.8888888888888888,\"#fdca26\"],[1.0,\"#f0f921\"]]}],\"choropleth\":[{\"type\":\"choropleth\",\"colorbar\":{\"outlinewidth\":0,\"ticks\":\"\"}}],\"histogram2d\":[{\"type\":\"histogram2d\",\"colorbar\":{\"outlinewidth\":0,\"ticks\":\"\"},\"colorscale\":[[0.0,\"#0d0887\"],[0.1111111111111111,\"#46039f\"],[0.2222222222222222,\"#7201a8\"],[0.3333333333333333,\"#9c179e\"],[0.4444444444444444,\"#bd3786\"],[0.5555555555555556,\"#d8576b\"],[0.6666666666666666,\"#ed7953\"],[0.7777777777777778,\"#fb9f3a\"],[0.8888888888888888,\"#fdca26\"],[1.0,\"#f0f921\"]]}],\"heatmap\":[{\"type\":\"heatmap\",\"colorbar\":{\"outlinewidth\":0,\"ticks\":\"\"},\"colorscale\":[[0.0,\"#0d0887\"],[0.1111111111111111,\"#46039f\"],[0.2222222222222222,\"#7201a8\"],[0.3333333333333333,\"#9c179e\"],[0.4444444444444444,\"#bd3786\"],[0.5555555555555556,\"#d8576b\"],[0.6666666666666666,\"#ed7953\"],[0.7777777777777778,\"#fb9f3a\"],[0.8888888888888888,\"#fdca26\"],[1.0,\"#f0f921\"]]}],\"heatmapgl\":[{\"type\":\"heatmapgl\",\"colorbar\":{\"outlinewidth\":0,\"ticks\":\"\"},\"colorscale\":[[0.0,\"#0d0887\"],[0.1111111111111111,\"#46039f\"],[0.2222222222222222,\"#7201a8\"],[0.3333333333333333,\"#9c179e\"],[0.4444444444444444,\"#bd3786\"],[0.5555555555555556,\"#d8576b\"],[0.6666666666666666,\"#ed7953\"],[0.7777777777777778,\"#fb9f3a\"],[0.8888888888888888,\"#fdca26\"],[1.0,\"#f0f921\"]]}],\"contourcarpet\":[{\"type\":\"contourcarpet\",\"colorbar\":{\"outlinewidth\":0,\"ticks\":\"\"}}],\"contour\":[{\"type\":\"contour\",\"colorbar\":{\"outlinewidth\":0,\"ticks\":\"\"},\"colorscale\":[[0.0,\"#0d0887\"],[0.1111111111111111,\"#46039f\"],[0.2222222222222222,\"#7201a8\"],[0.3333333333333333,\"#9c179e\"],[0.4444444444444444,\"#bd3786\"],[0.5555555555555556,\"#d8576b\"],[0.6666666666666666,\"#ed7953\"],[0.7777777777777778,\"#fb9f3a\"],[0.8888888888888888,\"#fdca26\"],[1.0,\"#f0f921\"]]}],\"surface\":[{\"type\":\"surface\",\"colorbar\":{\"outlinewidth\":0,\"ticks\":\"\"},\"colorscale\":[[0.0,\"#0d0887\"],[0.1111111111111111,\"#46039f\"],[0.2222222222222222,\"#7201a8\"],[0.3333333333333333,\"#9c179e\"],[0.4444444444444444,\"#bd3786\"],[0.5555555555555556,\"#d8576b\"],[0.6666666666666666,\"#ed7953\"],[0.7777777777777778,\"#fb9f3a\"],[0.8888888888888888,\"#fdca26\"],[1.0,\"#f0f921\"]]}],\"mesh3d\":[{\"type\":\"mesh3d\",\"colorbar\":{\"outlinewidth\":0,\"ticks\":\"\"}}],\"scatter\":[{\"fillpattern\":{\"fillmode\":\"overlay\",\"size\":10,\"solidity\":0.2},\"type\":\"scatter\"}],\"parcoords\":[{\"type\":\"parcoords\",\"line\":{\"colorbar\":{\"outlinewidth\":0,\"ticks\":\"\"}}}],\"scatterpolargl\":[{\"type\":\"scatterpolargl\",\"marker\":{\"colorbar\":{\"outlinewidth\":0,\"ticks\":\"\"}}}],\"bar\":[{\"error_x\":{\"color\":\"#2a3f5f\"},\"error_y\":{\"color\":\"#2a3f5f\"},\"marker\":{\"line\":{\"color\":\"#E5ECF6\",\"width\":0.5},\"pattern\":{\"fillmode\":\"overlay\",\"size\":10,\"solidity\":0.2}},\"type\":\"bar\"}],\"scattergeo\":[{\"type\":\"scattergeo\",\"marker\":{\"colorbar\":{\"outlinewidth\":0,\"ticks\":\"\"}}}],\"scatterpolar\":[{\"type\":\"scatterpolar\",\"marker\":{\"colorbar\":{\"outlinewidth\":0,\"ticks\":\"\"}}}],\"histogram\":[{\"marker\":{\"pattern\":{\"fillmode\":\"overlay\",\"size\":10,\"solidity\":0.2}},\"type\":\"histogram\"}],\"scattergl\":[{\"type\":\"scattergl\",\"marker\":{\"colorbar\":{\"outlinewidth\":0,\"ticks\":\"\"}}}],\"scatter3d\":[{\"type\":\"scatter3d\",\"line\":{\"colorbar\":{\"outlinewidth\":0,\"ticks\":\"\"}},\"marker\":{\"colorbar\":{\"outlinewidth\":0,\"ticks\":\"\"}}}],\"scattermapbox\":[{\"type\":\"scattermapbox\",\"marker\":{\"colorbar\":{\"outlinewidth\":0,\"ticks\":\"\"}}}],\"scatterternary\":[{\"type\":\"scatterternary\",\"marker\":{\"colorbar\":{\"outlinewidth\":0,\"ticks\":\"\"}}}],\"scattercarpet\":[{\"type\":\"scattercarpet\",\"marker\":{\"colorbar\":{\"outlinewidth\":0,\"ticks\":\"\"}}}],\"carpet\":[{\"aaxis\":{\"endlinecolor\":\"#2a3f5f\",\"gridcolor\":\"white\",\"linecolor\":\"white\",\"minorgridcolor\":\"white\",\"startlinecolor\":\"#2a3f5f\"},\"baxis\":{\"endlinecolor\":\"#2a3f5f\",\"gridcolor\":\"white\",\"linecolor\":\"white\",\"minorgridcolor\":\"white\",\"startlinecolor\":\"#2a3f5f\"},\"type\":\"carpet\"}],\"table\":[{\"cells\":{\"fill\":{\"color\":\"#EBF0F8\"},\"line\":{\"color\":\"white\"}},\"header\":{\"fill\":{\"color\":\"#C8D4E3\"},\"line\":{\"color\":\"white\"}},\"type\":\"table\"}],\"barpolar\":[{\"marker\":{\"line\":{\"color\":\"#E5ECF6\",\"width\":0.5},\"pattern\":{\"fillmode\":\"overlay\",\"size\":10,\"solidity\":0.2}},\"type\":\"barpolar\"}],\"pie\":[{\"automargin\":true,\"type\":\"pie\"}]},\"layout\":{\"autotypenumbers\":\"strict\",\"colorway\":[\"#636efa\",\"#EF553B\",\"#00cc96\",\"#ab63fa\",\"#FFA15A\",\"#19d3f3\",\"#FF6692\",\"#B6E880\",\"#FF97FF\",\"#FECB52\"],\"font\":{\"color\":\"#2a3f5f\"},\"hovermode\":\"closest\",\"hoverlabel\":{\"align\":\"left\"},\"paper_bgcolor\":\"white\",\"plot_bgcolor\":\"#E5ECF6\",\"polar\":{\"bgcolor\":\"#E5ECF6\",\"angularaxis\":{\"gridcolor\":\"white\",\"linecolor\":\"white\",\"ticks\":\"\"},\"radialaxis\":{\"gridcolor\":\"white\",\"linecolor\":\"white\",\"ticks\":\"\"}},\"ternary\":{\"bgcolor\":\"#E5ECF6\",\"aaxis\":{\"gridcolor\":\"white\",\"linecolor\":\"white\",\"ticks\":\"\"},\"baxis\":{\"gridcolor\":\"white\",\"linecolor\":\"white\",\"ticks\":\"\"},\"caxis\":{\"gridcolor\":\"white\",\"linecolor\":\"white\",\"ticks\":\"\"}},\"coloraxis\":{\"colorbar\":{\"outlinewidth\":0,\"ticks\":\"\"}},\"colorscale\":{\"sequential\":[[0.0,\"#0d0887\"],[0.1111111111111111,\"#46039f\"],[0.2222222222222222,\"#7201a8\"],[0.3333333333333333,\"#9c179e\"],[0.4444444444444444,\"#bd3786\"],[0.5555555555555556,\"#d8576b\"],[0.6666666666666666,\"#ed7953\"],[0.7777777777777778,\"#fb9f3a\"],[0.8888888888888888,\"#fdca26\"],[1.0,\"#f0f921\"]],\"sequentialminus\":[[0.0,\"#0d0887\"],[0.1111111111111111,\"#46039f\"],[0.2222222222222222,\"#7201a8\"],[0.3333333333333333,\"#9c179e\"],[0.4444444444444444,\"#bd3786\"],[0.5555555555555556,\"#d8576b\"],[0.6666666666666666,\"#ed7953\"],[0.7777777777777778,\"#fb9f3a\"],[0.8888888888888888,\"#fdca26\"],[1.0,\"#f0f921\"]],\"diverging\":[[0,\"#8e0152\"],[0.1,\"#c51b7d\"],[0.2,\"#de77ae\"],[0.3,\"#f1b6da\"],[0.4,\"#fde0ef\"],[0.5,\"#f7f7f7\"],[0.6,\"#e6f5d0\"],[0.7,\"#b8e186\"],[0.8,\"#7fbc41\"],[0.9,\"#4d9221\"],[1,\"#276419\"]]},\"xaxis\":{\"gridcolor\":\"white\",\"linecolor\":\"white\",\"ticks\":\"\",\"title\":{\"standoff\":15},\"zerolinecolor\":\"white\",\"automargin\":true,\"zerolinewidth\":2},\"yaxis\":{\"gridcolor\":\"white\",\"linecolor\":\"white\",\"ticks\":\"\",\"title\":{\"standoff\":15},\"zerolinecolor\":\"white\",\"automargin\":true,\"zerolinewidth\":2},\"scene\":{\"xaxis\":{\"backgroundcolor\":\"#E5ECF6\",\"gridcolor\":\"white\",\"linecolor\":\"white\",\"showbackground\":true,\"ticks\":\"\",\"zerolinecolor\":\"white\",\"gridwidth\":2},\"yaxis\":{\"backgroundcolor\":\"#E5ECF6\",\"gridcolor\":\"white\",\"linecolor\":\"white\",\"showbackground\":true,\"ticks\":\"\",\"zerolinecolor\":\"white\",\"gridwidth\":2},\"zaxis\":{\"backgroundcolor\":\"#E5ECF6\",\"gridcolor\":\"white\",\"linecolor\":\"white\",\"showbackground\":true,\"ticks\":\"\",\"zerolinecolor\":\"white\",\"gridwidth\":2}},\"shapedefaults\":{\"line\":{\"color\":\"#2a3f5f\"}},\"annotationdefaults\":{\"arrowcolor\":\"#2a3f5f\",\"arrowhead\":0,\"arrowwidth\":1},\"geo\":{\"bgcolor\":\"white\",\"landcolor\":\"#E5ECF6\",\"subunitcolor\":\"white\",\"showland\":true,\"showlakes\":true,\"lakecolor\":\"white\"},\"title\":{\"x\":0.05},\"mapbox\":{\"style\":\"light\"}}},\"title\":{\"text\":\"Model Performance Metrics\"},\"xaxis\":{\"title\":{\"text\":\"Model\"}},\"yaxis\":{\"title\":{\"text\":\"Score\"}},\"barmode\":\"group\",\"plot_bgcolor\":\"rgba(240,240,240,0.7)\",\"paper_bgcolor\":\"pink\"},                        {\"responsive\": true}                    ).then(function(){\n",
              "                            \n",
              "var gd = document.getElementById('66342970-fb45-4a0f-8923-33abf05cfbb2');\n",
              "var x = new MutationObserver(function (mutations, observer) {{\n",
              "        var display = window.getComputedStyle(gd).display;\n",
              "        if (!display || display === 'none') {{\n",
              "            console.log([gd, 'removed!']);\n",
              "            Plotly.purge(gd);\n",
              "            observer.disconnect();\n",
              "        }}\n",
              "}});\n",
              "\n",
              "// Listen for the removal of the full notebook cells\n",
              "var notebookContainer = gd.closest('#notebook-container');\n",
              "if (notebookContainer) {{\n",
              "    x.observe(notebookContainer, {childList: true});\n",
              "}}\n",
              "\n",
              "// Listen for the clearing of the current output cell\n",
              "var outputEl = gd.closest('.output');\n",
              "if (outputEl) {{\n",
              "    x.observe(outputEl, {childList: true});\n",
              "}}\n",
              "\n",
              "                        })                };                            </script>        </div>\n",
              "</body>\n",
              "</html>"
            ]
          },
          "metadata": {}
        }
      ]
    },
    {
      "cell_type": "markdown",
      "source": [
        "# **Conclusion**\n",
        "\n",
        "* **1. This data is totally imbalance**\n",
        "\n",
        "* **2. Because of imbalance models are not performing very good at classiying class 1 - Defaulted**\n",
        "\n",
        "* **3. Even though the models can able to classify the class 0**\n",
        "\n",
        "* **4. From the given data all the calculations and the performance of the model are plotted above**\n",
        "\n",
        "* **5. From the chart, It's obvious that logistic regression is performing better in all the claculation evaluations**\n",
        "\n",
        "* **6. Naive bayes is also good model compared to decision tree.**\n",
        "\n",
        "* **7. Decision tree is not a good model for this data, this model is overfitted and can't be able to clasify the classess properly**\n",
        "\n",
        "* **8. Finally, from all the calculations values LogisticRegression  is the better model to proceed with forecasting**"
      ],
      "metadata": {
        "id": "oR4U4xuBfe9A"
      }
    },
    {
      "cell_type": "markdown",
      "source": [
        "# **Forecasting**\n",
        "\n",
        "* **Here we are forecasting using the test data created earlier**"
      ],
      "metadata": {
        "id": "DVrZm-4ExH4Y"
      }
    },
    {
      "cell_type": "code",
      "source": [
        "# Predicting the target and adding predicted values to the test data\n",
        "\n",
        "test_df['default'] = model_l.predict(test_df.drop('default', axis =1))\n",
        "\n",
        "test_df.sample(10)"
      ],
      "metadata": {
        "colab": {
          "base_uri": "https://localhost:8080/",
          "height": 363
        },
        "collapsed": true,
        "id": "SgbDPY2vhXtz",
        "outputId": "2f93459c-ff4b-4b69-e53c-4b045ab54805"
      },
      "execution_count": null,
      "outputs": [
        {
          "output_type": "execute_result",
          "data": {
            "text/plain": [
              "     age  ed  employ  address  income  debtinc  creddebt   othdebt  default\n",
              "793   23   1       6        2    15.0     12.7  1.375410  0.529590        0\n",
              "801   35   2       0        6    35.0     12.4  2.382660  1.957340        1\n",
              "825   29   2       0        7    23.0      8.0  1.242000  0.598000        0\n",
              "848   35   2       1       11    24.0      7.8  0.417456  1.454544        0\n",
              "755   47   2       7       24    49.0      0.9  0.253575  0.187425        0\n",
              "784   38   4      13        2   126.0     13.7  7.612542  9.649458        1\n",
              "715   46   1       7        6    41.0     23.4  0.585234  9.008766        0\n",
              "789   25   2       5        3    42.0     15.5  3.365670  3.144330        1\n",
              "705   25   2       1        3    14.0      9.9  0.232848  1.153152        0\n",
              "817   38   2       0       18    21.0      4.6  0.612444  0.353556        0"
            ],
            "text/html": [
              "\n",
              "  <div id=\"df-56cc0b96-9080-4485-a6f1-a1ee71a93d0d\">\n",
              "    <div class=\"colab-df-container\">\n",
              "      <div>\n",
              "<style scoped>\n",
              "    .dataframe tbody tr th:only-of-type {\n",
              "        vertical-align: middle;\n",
              "    }\n",
              "\n",
              "    .dataframe tbody tr th {\n",
              "        vertical-align: top;\n",
              "    }\n",
              "\n",
              "    .dataframe thead th {\n",
              "        text-align: right;\n",
              "    }\n",
              "</style>\n",
              "<table border=\"1\" class=\"dataframe\">\n",
              "  <thead>\n",
              "    <tr style=\"text-align: right;\">\n",
              "      <th></th>\n",
              "      <th>age</th>\n",
              "      <th>ed</th>\n",
              "      <th>employ</th>\n",
              "      <th>address</th>\n",
              "      <th>income</th>\n",
              "      <th>debtinc</th>\n",
              "      <th>creddebt</th>\n",
              "      <th>othdebt</th>\n",
              "      <th>default</th>\n",
              "    </tr>\n",
              "  </thead>\n",
              "  <tbody>\n",
              "    <tr>\n",
              "      <th>793</th>\n",
              "      <td>23</td>\n",
              "      <td>1</td>\n",
              "      <td>6</td>\n",
              "      <td>2</td>\n",
              "      <td>15.0</td>\n",
              "      <td>12.7</td>\n",
              "      <td>1.375410</td>\n",
              "      <td>0.529590</td>\n",
              "      <td>0</td>\n",
              "    </tr>\n",
              "    <tr>\n",
              "      <th>801</th>\n",
              "      <td>35</td>\n",
              "      <td>2</td>\n",
              "      <td>0</td>\n",
              "      <td>6</td>\n",
              "      <td>35.0</td>\n",
              "      <td>12.4</td>\n",
              "      <td>2.382660</td>\n",
              "      <td>1.957340</td>\n",
              "      <td>1</td>\n",
              "    </tr>\n",
              "    <tr>\n",
              "      <th>825</th>\n",
              "      <td>29</td>\n",
              "      <td>2</td>\n",
              "      <td>0</td>\n",
              "      <td>7</td>\n",
              "      <td>23.0</td>\n",
              "      <td>8.0</td>\n",
              "      <td>1.242000</td>\n",
              "      <td>0.598000</td>\n",
              "      <td>0</td>\n",
              "    </tr>\n",
              "    <tr>\n",
              "      <th>848</th>\n",
              "      <td>35</td>\n",
              "      <td>2</td>\n",
              "      <td>1</td>\n",
              "      <td>11</td>\n",
              "      <td>24.0</td>\n",
              "      <td>7.8</td>\n",
              "      <td>0.417456</td>\n",
              "      <td>1.454544</td>\n",
              "      <td>0</td>\n",
              "    </tr>\n",
              "    <tr>\n",
              "      <th>755</th>\n",
              "      <td>47</td>\n",
              "      <td>2</td>\n",
              "      <td>7</td>\n",
              "      <td>24</td>\n",
              "      <td>49.0</td>\n",
              "      <td>0.9</td>\n",
              "      <td>0.253575</td>\n",
              "      <td>0.187425</td>\n",
              "      <td>0</td>\n",
              "    </tr>\n",
              "    <tr>\n",
              "      <th>784</th>\n",
              "      <td>38</td>\n",
              "      <td>4</td>\n",
              "      <td>13</td>\n",
              "      <td>2</td>\n",
              "      <td>126.0</td>\n",
              "      <td>13.7</td>\n",
              "      <td>7.612542</td>\n",
              "      <td>9.649458</td>\n",
              "      <td>1</td>\n",
              "    </tr>\n",
              "    <tr>\n",
              "      <th>715</th>\n",
              "      <td>46</td>\n",
              "      <td>1</td>\n",
              "      <td>7</td>\n",
              "      <td>6</td>\n",
              "      <td>41.0</td>\n",
              "      <td>23.4</td>\n",
              "      <td>0.585234</td>\n",
              "      <td>9.008766</td>\n",
              "      <td>0</td>\n",
              "    </tr>\n",
              "    <tr>\n",
              "      <th>789</th>\n",
              "      <td>25</td>\n",
              "      <td>2</td>\n",
              "      <td>5</td>\n",
              "      <td>3</td>\n",
              "      <td>42.0</td>\n",
              "      <td>15.5</td>\n",
              "      <td>3.365670</td>\n",
              "      <td>3.144330</td>\n",
              "      <td>1</td>\n",
              "    </tr>\n",
              "    <tr>\n",
              "      <th>705</th>\n",
              "      <td>25</td>\n",
              "      <td>2</td>\n",
              "      <td>1</td>\n",
              "      <td>3</td>\n",
              "      <td>14.0</td>\n",
              "      <td>9.9</td>\n",
              "      <td>0.232848</td>\n",
              "      <td>1.153152</td>\n",
              "      <td>0</td>\n",
              "    </tr>\n",
              "    <tr>\n",
              "      <th>817</th>\n",
              "      <td>38</td>\n",
              "      <td>2</td>\n",
              "      <td>0</td>\n",
              "      <td>18</td>\n",
              "      <td>21.0</td>\n",
              "      <td>4.6</td>\n",
              "      <td>0.612444</td>\n",
              "      <td>0.353556</td>\n",
              "      <td>0</td>\n",
              "    </tr>\n",
              "  </tbody>\n",
              "</table>\n",
              "</div>\n",
              "      <button class=\"colab-df-convert\" onclick=\"convertToInteractive('df-56cc0b96-9080-4485-a6f1-a1ee71a93d0d')\"\n",
              "              title=\"Convert this dataframe to an interactive table.\"\n",
              "              style=\"display:none;\">\n",
              "        \n",
              "  <svg xmlns=\"http://www.w3.org/2000/svg\" height=\"24px\"viewBox=\"0 0 24 24\"\n",
              "       width=\"24px\">\n",
              "    <path d=\"M0 0h24v24H0V0z\" fill=\"none\"/>\n",
              "    <path d=\"M18.56 5.44l.94 2.06.94-2.06 2.06-.94-2.06-.94-.94-2.06-.94 2.06-2.06.94zm-11 1L8.5 8.5l.94-2.06 2.06-.94-2.06-.94L8.5 2.5l-.94 2.06-2.06.94zm10 10l.94 2.06.94-2.06 2.06-.94-2.06-.94-.94-2.06-.94 2.06-2.06.94z\"/><path d=\"M17.41 7.96l-1.37-1.37c-.4-.4-.92-.59-1.43-.59-.52 0-1.04.2-1.43.59L10.3 9.45l-7.72 7.72c-.78.78-.78 2.05 0 2.83L4 21.41c.39.39.9.59 1.41.59.51 0 1.02-.2 1.41-.59l7.78-7.78 2.81-2.81c.8-.78.8-2.07 0-2.86zM5.41 20L4 18.59l7.72-7.72 1.47 1.35L5.41 20z\"/>\n",
              "  </svg>\n",
              "      </button>\n",
              "      \n",
              "  <style>\n",
              "    .colab-df-container {\n",
              "      display:flex;\n",
              "      flex-wrap:wrap;\n",
              "      gap: 12px;\n",
              "    }\n",
              "\n",
              "    .colab-df-convert {\n",
              "      background-color: #E8F0FE;\n",
              "      border: none;\n",
              "      border-radius: 50%;\n",
              "      cursor: pointer;\n",
              "      display: none;\n",
              "      fill: #1967D2;\n",
              "      height: 32px;\n",
              "      padding: 0 0 0 0;\n",
              "      width: 32px;\n",
              "    }\n",
              "\n",
              "    .colab-df-convert:hover {\n",
              "      background-color: #E2EBFA;\n",
              "      box-shadow: 0px 1px 2px rgba(60, 64, 67, 0.3), 0px 1px 3px 1px rgba(60, 64, 67, 0.15);\n",
              "      fill: #174EA6;\n",
              "    }\n",
              "\n",
              "    [theme=dark] .colab-df-convert {\n",
              "      background-color: #3B4455;\n",
              "      fill: #D2E3FC;\n",
              "    }\n",
              "\n",
              "    [theme=dark] .colab-df-convert:hover {\n",
              "      background-color: #434B5C;\n",
              "      box-shadow: 0px 1px 3px 1px rgba(0, 0, 0, 0.15);\n",
              "      filter: drop-shadow(0px 1px 2px rgba(0, 0, 0, 0.3));\n",
              "      fill: #FFFFFF;\n",
              "    }\n",
              "  </style>\n",
              "\n",
              "      <script>\n",
              "        const buttonEl =\n",
              "          document.querySelector('#df-56cc0b96-9080-4485-a6f1-a1ee71a93d0d button.colab-df-convert');\n",
              "        buttonEl.style.display =\n",
              "          google.colab.kernel.accessAllowed ? 'block' : 'none';\n",
              "\n",
              "        async function convertToInteractive(key) {\n",
              "          const element = document.querySelector('#df-56cc0b96-9080-4485-a6f1-a1ee71a93d0d');\n",
              "          const dataTable =\n",
              "            await google.colab.kernel.invokeFunction('convertToInteractive',\n",
              "                                                     [key], {});\n",
              "          if (!dataTable) return;\n",
              "\n",
              "          const docLinkHtml = 'Like what you see? Visit the ' +\n",
              "            '<a target=\"_blank\" href=https://colab.research.google.com/notebooks/data_table.ipynb>data table notebook</a>'\n",
              "            + ' to learn more about interactive tables.';\n",
              "          element.innerHTML = '';\n",
              "          dataTable['output_type'] = 'display_data';\n",
              "          await google.colab.output.renderOutput(dataTable, element);\n",
              "          const docLink = document.createElement('div');\n",
              "          docLink.innerHTML = docLinkHtml;\n",
              "          element.appendChild(docLink);\n",
              "        }\n",
              "      </script>\n",
              "    </div>\n",
              "  </div>\n",
              "  "
            ]
          },
          "metadata": {},
          "execution_count": 73
        }
      ]
    },
    {
      "cell_type": "code",
      "source": [
        "# Predicted data\n",
        "\n",
        "test_df['default'].value_counts()"
      ],
      "metadata": {
        "colab": {
          "base_uri": "https://localhost:8080/"
        },
        "collapsed": true,
        "id": "abm5objyhmWH",
        "outputId": "866bfa14-df63-4d86-9155-c93862a785e2"
      },
      "execution_count": null,
      "outputs": [
        {
          "output_type": "execute_result",
          "data": {
            "text/plain": [
              "0    129\n",
              "1     21\n",
              "Name: default, dtype: int64"
            ]
          },
          "metadata": {},
          "execution_count": 74
        }
      ]
    },
    {
      "cell_type": "markdown",
      "source": [
        "**The pattern of predicted data is almost same as the original data, the data is predicted more class 0**"
      ],
      "metadata": {
        "id": "VjhrH7Ypjrft"
      }
    },
    {
      "cell_type": "code",
      "source": [],
      "metadata": {
        "id": "hYzvws6U-QRf"
      },
      "execution_count": null,
      "outputs": []
    }
  ]
}